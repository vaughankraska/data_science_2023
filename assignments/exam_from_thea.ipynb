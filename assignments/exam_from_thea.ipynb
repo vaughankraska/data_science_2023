{
 "cells": [
  {
   "cell_type": "markdown",
   "id": "a8ac0814",
   "metadata": {
    "deletable": false
   },
   "source": [
    "# Exam 15th of August 2023, 8.00-13.00 for the course 1MS041 (Introduction to Data Science / Introduktion till dataanalys)\n",
    "\n",
    "## Instructions:\n",
    "1. Complete the problems by following instructions.\n",
    "2. When done, submit this file with your solutions saved, following the instruction sheet.\n",
    "\n",
    "This exam has 3 problems for a total of 40 points, to pass you need\n",
    "20 points.\n",
    "\n",
    "## Some general hints and information:\n",
    "* Try to answer all questions even if you are uncertain.\n",
    "* Comment your code, so that if you get the wrong answer I can understand how you thought\n",
    "this can give you some points even though the code does not run.\n",
    "* Follow the instruction sheet rigorously.\n",
    "* This exam is partially autograded, but your code and your free text answers are manually graded anonymously.\n",
    "* If there are any questions, please ask the exam guards, they will escalate it to me if necessary.\n",
    "\n",
    "## Tips for free text answers\n",
    "* Be VERY clear with your reasoning, there should be zero ambiguity in what you are referring to.\n",
    "* If you want to include math, you can write LaTeX in the Markdown cells, for instance `$f(x)=x^2$` will be rendered as $f(x)=x^2$ and `$$f(x) = x^2$$` will become an equation line, as follows\n",
    "$$f(x) = x^2$$\n",
    "Another example is `$$f_{Y \\mid X}(y,x) = P(Y = y \\mid X = x) = \\exp(\\alpha \\cdot x + \\beta)$$` which renders as\n",
    "$$f_{Y \\mid X}(y,x) = P(Y = y \\mid X = x) = \\exp(\\alpha \\cdot x + \\beta)$$\n",
    "\n",
    "## Finally some rules:\n",
    "* You may not communicate with others during the exam, for example:\n",
    "    * You cannot ask for help in Stack-Overflow or other such help forums during the Exam.\n",
    "    * You may not communicate with AI's, for instance ChatGPT.\n",
    "    * Your on-line and off-line activity is being monitored according to the examination rules.\n",
    "\n",
    "## Good luck!"
   ]
  },
  {
   "cell_type": "code",
   "execution_count": 1,
   "id": "f2fdd277",
   "metadata": {
    "deletable": false,
    "ExecuteTime": {
     "end_time": "2024-01-02T13:54:11.704192Z",
     "start_time": "2024-01-02T13:54:11.702416Z"
    }
   },
   "outputs": [],
   "source": [
    "import numpy as np\n",
    "\n",
    "# Insert your anonymous exam ID as a string in the variable below\n",
    "examID = \"XXX\"\n"
   ]
  },
  {
   "cell_type": "code",
   "execution_count": 4,
   "id": "61d98cce",
   "metadata": {
    "ExecuteTime": {
     "end_time": "2024-01-02T14:01:33.252943Z",
     "start_time": "2024-01-02T14:01:33.237623Z"
    }
   },
   "outputs": [],
   "source": [
    "import Utils\n",
    "import numpy as np"
   ]
  },
  {
   "cell_type": "markdown",
   "id": "e35cbad6",
   "metadata": {
    "deletable": false,
    "lx_assignment_number": "vB",
    "lx_assignment_type": "EXAM",
    "lx_assignment_type2print": "Exam",
    "lx_problem_cell_type": "PROBLEM",
    "lx_problem_number": "1",
    "lx_problem_points": "14"
   },
   "source": [
    "---\n",
    "## Exam vB, PROBLEM 1\n",
    "Maximum Points = 14"
   ]
  },
  {
   "cell_type": "markdown",
   "id": "a8f0504c",
   "metadata": {
    "deletable": false,
    "lx_assignment_number": "vB",
    "lx_assignment_type": "EXAM",
    "lx_assignment_type2print": "Exam",
    "lx_problem_cell_type": "PROBLEM",
    "lx_problem_number": "1",
    "lx_problem_points": "14"
   },
   "source": [
    "A courier company operates a fleet of delivery trucks that make deliveries to different parts of the city. The trucks are equipped with GPS tracking devices that record the location of each truck at regular intervals. The locations are divided into three regions: downtown, the suburbs, and the countryside, however there is always the possibility the truck breaks down and it goes to the workshop. The following table shows the probabilities of a truck transitioning between these regions at each time step:\n",
    "\n",
    "| Current region | Probability of transitioning to downtown | Probability of transitioning to the suburbs | Probability of transitioning to the countryside | Probability of transitioning to the Workshop |\n",
    "|-|-|-|-|-|\n",
    "| Downtown       | 0.3 | 0.7 | 0 | 0 |\n",
    "| Suburbs        | 0.2 | 0.5 | 0.3 | 0 |\n",
    "| Countryside    | 0 | 0 | 0.5 | 0.5 |\n",
    "| Workshop    | 0 | 0 | 0 | 1 |\n",
    "\n",
    "1. If a truck is currently in the downtown, what is the probability that it will be in the countryside region after 10 time steps? [2p]\n",
    "2. If a truck is currently in the downtown, what is the probability that it will be in the countryside region **the first time** after three time steps or more? [2p]\n",
    "3. Is this Markov chain irreducible? Explain your answer. [3p]\n",
    "4. What is the stationary distribution? Furthermore it it reversible? (Explain your answer) [3p]\n",
    "5. Advanced question: What is the expected number of steps it takes starting from the Downtown region to first reach the Workshop? Hint: to get within 1 decimal point, it is enough to compute the probabilities for hitting times below 50. Motivate your answer in detail [4p]. You could also solve this question by simulation, but this gives you a maximum of [2p].\n",
    "\n"
   ]
  },
  {
   "cell_type": "code",
   "execution_count": 6,
   "id": "8477d940",
   "metadata": {
    "deletable": false,
    "lx_assignment_number": "vB",
    "lx_assignment_type": "EXAM",
    "lx_assignment_type2print": "Exam",
    "lx_problem_cell_type": "PROBLEM",
    "lx_problem_number": "1",
    "lx_problem_points": "14",
    "ExecuteTime": {
     "end_time": "2024-01-02T14:02:04.999110Z",
     "start_time": "2024-01-02T14:02:04.990364Z"
    }
   },
   "outputs": [
    {
     "name": "stdout",
     "output_type": "stream",
     "text": [
      "[[0.03393523 0.08268291 0.08487353 0.79850833]]\n"
     ]
    }
   ],
   "source": [
    "# Part 1\n",
    "# noinspection PyTypeChecker\n",
    "P = np.matrix(data=[\n",
    "    [.3, .7, 0, 0],\n",
    "    [.2, .5, .3, 0],\n",
    "    [0, 0, .5, .5],\n",
    "    [0, 0, 0, 1],\n",
    "])\n",
    "v_0 = np.array([1,0,0,0])\n",
    "print(np.matmul(v_0, P**10))\n",
    "# Fill in the answer to part 1 below\n",
    "problem1_p1 = 0.08487353"
   ]
  },
  {
   "cell_type": "code",
   "execution_count": 31,
   "id": "b254737c",
   "metadata": {
    "deletable": false,
    "lx_assignment_number": "vB",
    "lx_assignment_type": "EXAM",
    "lx_assignment_type2print": "Exam",
    "lx_problem_cell_type": "PROBLEM",
    "lx_problem_number": "1",
    "lx_problem_points": "14",
    "ExecuteTime": {
     "end_time": "2024-01-02T14:27:08.913119Z",
     "start_time": "2024-01-02T14:27:05.878800Z"
    }
   },
   "outputs": [
    {
     "name": "stdout",
     "output_type": "stream",
     "text": [
      "0.79069\n"
     ]
    },
    {
     "ename": "NameError",
     "evalue": "name 'XXX' is not defined",
     "output_type": "error",
     "traceback": [
      "\u001B[0;31m---------------------------------------------------------------------------\u001B[0m",
      "\u001B[0;31mNameError\u001B[0m                                 Traceback (most recent call last)",
      "Cell \u001B[0;32mIn[31], line 25\u001B[0m\n\u001B[1;32m     23\u001B[0m \u001B[38;5;28mprint\u001B[39m(np\u001B[38;5;241m.\u001B[39mmean(is_country_side_after_three))\n\u001B[1;32m     24\u001B[0m \u001B[38;5;66;03m# Fill in the answer to part 2 below\u001B[39;00m\n\u001B[0;32m---> 25\u001B[0m problem1_p2 \u001B[38;5;241m=\u001B[39m \u001B[43mXXX\u001B[49m\n",
      "\u001B[0;31mNameError\u001B[0m: name 'XXX' is not defined"
     ]
    }
   ],
   "source": [
    "# Part 2\n",
    "def do_step(position):\n",
    "    # noinspection PyTypeChecker\n",
    "    P = [\n",
    "        [.3, .7, 0, 0],\n",
    "        [.2, .5, .3, 0],\n",
    "        [0, 0, .5, .5],\n",
    "        [0, 0, 0, 1],\n",
    "    ]\n",
    "    current = P[position]\n",
    "    return np.random.choice([0,1,2,3], p=current)\n",
    "is_country_side_after_three = []\n",
    "for i in range(100000):\n",
    "    pos = 0\n",
    "    steps = 0\n",
    "    while pos != 2:\n",
    "        pos = do_step(pos)\n",
    "        steps += 1\n",
    "        if steps > 100: break\n",
    "    if steps >= 3 and pos == 2:\n",
    "        is_country_side_after_three.append(1)\n",
    "    else: is_country_side_after_three.append(0)\n",
    "print(np.mean(is_country_side_after_three))\n",
    "# Fill in the answer to part 2 below\n",
    "problem1_p2 = XXX"
   ]
  },
  {
   "cell_type": "markdown",
   "id": "2c2c5f37",
   "metadata": {
    "deletable": false,
    "lx_assignment_number": "vB",
    "lx_assignment_type": "EXAM",
    "lx_assignment_type2print": "Exam",
    "lx_problem_cell_type": "PROBLEM",
    "lx_problem_number": "1",
    "lx_problem_points": "14"
   },
   "source": [
    "\n",
    "## Part 3\n",
    "\n",
    "Double click this cell to enter edit mode and write your answer for part 3 below this line.\n"
   ]
  },
  {
   "cell_type": "code",
   "execution_count": null,
   "id": "74a1bace",
   "metadata": {
    "deletable": false,
    "lx_assignment_number": "vB",
    "lx_assignment_type": "EXAM",
    "lx_assignment_type2print": "Exam",
    "lx_problem_cell_type": "PROBLEM",
    "lx_problem_number": "1",
    "lx_problem_points": "14"
   },
   "outputs": [],
   "source": [
    "# Part 3\n",
    "\n",
    "# Fill in the answer to part 3 below as a boolean\n",
    "problem1_irreducible = False"
   ]
  },
  {
   "cell_type": "code",
   "execution_count": 53,
   "id": "be657d96",
   "metadata": {
    "deletable": false,
    "lx_assignment_number": "vB",
    "lx_assignment_type": "EXAM",
    "lx_assignment_type2print": "Exam",
    "lx_problem_cell_type": "PROBLEM",
    "lx_problem_number": "1",
    "lx_problem_points": "14",
    "ExecuteTime": {
     "end_time": "2024-01-02T14:55:41.843956Z",
     "start_time": "2024-01-02T14:55:41.832801Z"
    }
   },
   "outputs": [
    {
     "name": "stdout",
     "output_type": "stream",
     "text": [
      "[[0. 0. 0. 1.]\n",
      " [0. 0. 0. 1.]\n",
      " [0. 0. 0. 1.]\n",
      " [0. 0. 0. 1.]]\n",
      "------\n",
      "[[0.  0.  0.  0.3]]\n",
      "[[0.  0.  0.  0.3]]\n",
      "------\n",
      "[[0.  0.  0.  0.7]]\n",
      "[[0.  0.  0.  0.2]]\n",
      "------\n",
      "[[0. 0. 0. 0.]]\n",
      "[[0. 0. 0. 0.]]\n",
      "------\n",
      "[[0. 0. 0. 0.]]\n",
      "[[0. 0. 0. 0.]]\n",
      "------\n",
      "[[0.  0.  0.  0.2]]\n",
      "[[0.  0.  0.  0.7]]\n",
      "------\n",
      "[[0.  0.  0.  0.5]]\n",
      "[[0.  0.  0.  0.5]]\n",
      "------\n",
      "[[0.  0.  0.  0.3]]\n",
      "[[0. 0. 0. 0.]]\n",
      "------\n",
      "[[0. 0. 0. 0.]]\n",
      "[[0. 0. 0. 0.]]\n",
      "------\n",
      "[[0. 0. 0. 0.]]\n",
      "[[0. 0. 0. 0.]]\n",
      "------\n",
      "[[0. 0. 0. 0.]]\n",
      "[[0.  0.  0.  0.3]]\n",
      "------\n",
      "[[0.  0.  0.  0.5]]\n",
      "[[0.  0.  0.  0.5]]\n",
      "------\n",
      "[[0.  0.  0.  0.5]]\n",
      "[[0. 0. 0. 0.]]\n",
      "------\n",
      "[[0. 0. 0. 0.]]\n",
      "[[0. 0. 0. 0.]]\n",
      "------\n",
      "[[0. 0. 0. 0.]]\n",
      "[[0. 0. 0. 0.]]\n",
      "------\n",
      "[[0. 0. 0. 0.]]\n",
      "[[0.  0.  0.  0.5]]\n",
      "------\n",
      "[[0. 0. 0. 1.]]\n",
      "[[0. 0. 0. 1.]]\n"
     ]
    },
    {
     "ename": "ZeroDivisionError",
     "evalue": "division by zero",
     "output_type": "error",
     "traceback": [
      "\u001B[0;31m---------------------------------------------------------------------------\u001B[0m",
      "\u001B[0;31mZeroDivisionError\u001B[0m                         Traceback (most recent call last)",
      "Cell \u001B[0;32mIn[53], line 16\u001B[0m\n\u001B[1;32m     12\u001B[0m \u001B[38;5;66;03m# Fill in the answer to part 4 below\u001B[39;00m\n\u001B[1;32m     13\u001B[0m \u001B[38;5;66;03m# the answer should be a numpy array of length 3\u001B[39;00m\n\u001B[1;32m     14\u001B[0m \u001B[38;5;66;03m# make sure that the entries sums to 1!\u001B[39;00m\n\u001B[1;32m     15\u001B[0m problem1_stationary \u001B[38;5;241m=\u001B[39m P_stationary\n\u001B[0;32m---> 16\u001B[0m problem1_reversible \u001B[38;5;241m=\u001B[39m \u001B[38;5;28;43;01mTrue\u001B[39;49;00m\u001B[43m \u001B[49m\u001B[38;5;241;43m/\u001B[39;49m\u001B[43m \u001B[49m\u001B[38;5;28;43;01mFalse\u001B[39;49;00m\n",
      "\u001B[0;31mZeroDivisionError\u001B[0m: division by zero"
     ]
    }
   ],
   "source": [
    "# Part 4\n",
    "P_stationary = np.linalg.matrix_power(P,10001)\n",
    "print(P_stationary * P)\n",
    "for i in range(len(P_stationary)):\n",
    "    for j in range(len(P_stationary)):\n",
    "        first = P_stationary[i] * P[i,j]\n",
    "        second = P_stationary[j] * P[j,i]\n",
    "        print('------')\n",
    "        print(first)\n",
    "        print(second)\n",
    "        \n",
    "# Fill in the answer to part 4 below\n",
    "# the answer should be a numpy array of length 3\n",
    "# make sure that the entries sums to 1!\n",
    "problem1_stationary = P_stationary\n",
    "problem1_reversible = False"
   ]
  },
  {
   "cell_type": "markdown",
   "id": "ce92b409",
   "metadata": {
    "deletable": false,
    "lx_assignment_number": "vB",
    "lx_assignment_type": "EXAM",
    "lx_assignment_type2print": "Exam",
    "lx_problem_cell_type": "PROBLEM",
    "lx_problem_number": "1",
    "lx_problem_points": "14"
   },
   "source": [
    "# Part 4\n",
    "\n",
    "Double click this cell and write your motivation below this line\n",
    "#### not reversible since the pi_i P_ij is not equal to pi_j * P_ji for all ij\n"
   ]
  },
  {
   "cell_type": "markdown",
   "id": "96857432",
   "metadata": {
    "deletable": false,
    "lx_assignment_number": "vB",
    "lx_assignment_type": "EXAM",
    "lx_assignment_type2print": "Exam",
    "lx_problem_cell_type": "PROBLEM",
    "lx_problem_number": "1",
    "lx_problem_points": "14"
   },
   "source": [
    "\n",
    "| Current region | Probability of transitioning to downtown | Probability of transitioning to the suburbs | Probability of transitioning to the countryside | Probability of transitioning to the Workshop |\n",
    "|-|-|-|-|-|\n",
    "| Downtown       | 0.3 | 0.7 | 0 | 0 |\n",
    "| Suburbs        | 0.2 | 0.5 | 0.3 | 0 |\n",
    "| Countryside    | 0 | 0 | 0.5 | 0.5 |\n",
    "| Workshop    | 0 | 0 | 0 | 1 |\n",
    "## Part 5\n",
    "Advanced question: What is the expected number of steps it takes starting from the Downtown region to first reach the Workshop? Hint: to get within 1 decimal point, it is enough to compute the probabilities for hitting times below 50. Motivate your answer in detail \n",
    "\n",
    "\n",
    "Double click this cell to enter edit mode and write your answer for part 5 below this line.\n"
   ]
  },
  {
   "cell_type": "code",
   "execution_count": 61,
   "id": "42713a2d",
   "metadata": {
    "deletable": false,
    "lx_assignment_number": "vB",
    "lx_assignment_type": "EXAM",
    "lx_assignment_type2print": "Exam",
    "lx_problem_cell_type": "PROBLEM",
    "lx_problem_number": "1",
    "lx_problem_points": "14",
    "ExecuteTime": {
     "end_time": "2024-01-02T15:07:17.488149Z",
     "start_time": "2024-01-02T15:06:36.762599Z"
    }
   },
   "outputs": [
    {
     "name": "stdout",
     "output_type": "stream",
     "text": [
      "          steps_to_ws        pos\n",
      "count  1000000.000000  1000000.0\n",
      "mean         7.710857        3.0\n",
      "std          4.398735        0.0\n",
      "min          3.000000        3.0\n",
      "25%          5.000000        3.0\n",
      "50%          7.000000        3.0\n",
      "75%         10.000000        3.0\n",
      "max         64.000000        3.0\n"
     ]
    }
   ],
   "source": [
    "# Part 5\n",
    "import pandas as pd\n",
    "answer_array = []\n",
    "for i in range(1000000):\n",
    "    # print('------')\n",
    "    pos = 0\n",
    "    steps = 0\n",
    "    while pos != 3:\n",
    "        steps += 1\n",
    "        pos = do_step(pos)\n",
    "        # print(f'pos = {pos} at step {steps}')\n",
    "    answer_array.append({'steps_to_ws': steps, 'pos': pos})\n",
    "print(pd.DataFrame(answer_array).describe())\n",
    "# Fill in the answer to part 5 below\n",
    "# That is, the expected number of steps\n",
    "problem1_ET = 7.71"
   ]
  },
  {
   "cell_type": "markdown",
   "id": "9cdae0c7",
   "metadata": {
    "deletable": false,
    "lx_assignment_number": "vB",
    "lx_assignment_type": "EXAM",
    "lx_assignment_type2print": "Exam",
    "lx_problem_cell_type": "PROBLEM",
    "lx_problem_number": "2",
    "lx_problem_points": "13"
   },
   "source": [
    "---\n",
    "## Exam vB, PROBLEM 2\n",
    "Maximum Points = 13"
   ]
  },
  {
   "cell_type": "markdown",
   "id": "ab20c652",
   "metadata": {
    "deletable": false,
    "lx_assignment_number": "vB",
    "lx_assignment_type": "EXAM",
    "lx_assignment_type2print": "Exam",
    "lx_problem_cell_type": "PROBLEM",
    "lx_problem_number": "2",
    "lx_problem_points": "13"
   },
   "source": [
    "\n",
    "You are given a \"Data Science Salaries\" dataset found in `data/salaries.csv`, which contains employment information of data scientists up to 2023 and the salary obtained. Your task is to train a `linear regression` model to predict the salary of a data scientist based on the employment information.\n",
    "\n",
    "To evaluate your model, you will split the dataset into a training set and a testing set. You will use the training set to train your model, and the testing set to evaluate its performance.\n",
    "\n",
    "`Experience level`: 0 = Entry Level, 1 = Mid Level, 2 = Senior Level, 3 = Executive Level.\n",
    "\n",
    "`Employment type`: 0 = Part Time, 1 = Full Time, 2 = Contractor, 3 = Freelancer\n",
    "\n",
    "1. Load the data into a pandas dataframe `problem2_df`. Based on the column names, figure out what are the features and the target and fill in the answer in the correct cell below. [1p]\n",
    "2. Split the data into train and test. [1p]\n",
    "3. Train the model. [1p]\n",
    "4. Come up with a reasonable metric and compute it. Provide plots that show the performance of the model. Reason about the performance. [4p]\n",
    "5. Predict the 2023 salary of a data scientist that works full time (1) at mid employment level (1) with 0 remote ratio. Then, looking at the output of `problem2_model.coef_`, which are the coefficients of the linear model, would a higher remote ratio result in a higher predicted salary or vice versa? [3p]\n",
    "6. Advanced question: On the test set, plot the empirical distribution function of the residual with confidence bands (i.e. using the DKW inequality and 95% confidence). What does the confidence band tell us? What can the confidence band be used for? [3p]\n"
   ]
  },
  {
   "cell_type": "code",
   "execution_count": 106,
   "id": "69725ca9",
   "metadata": {
    "deletable": false,
    "lx_assignment_number": "vB",
    "lx_assignment_type": "EXAM",
    "lx_assignment_type2print": "Exam",
    "lx_problem_cell_type": "PROBLEM",
    "lx_problem_number": "2",
    "lx_problem_points": "13",
    "ExecuteTime": {
     "end_time": "2024-01-02T15:54:16.440499Z",
     "start_time": "2024-01-02T15:54:16.425088Z"
    }
   },
   "outputs": [
    {
     "data": {
      "text/plain": "         work_year  experience_level  employment_type  salary_in_usd  \\\ncount  3755.000000       3755.000000      3755.000000    3755.000000   \nmean   2022.373635          1.645539         1.003462  137570.389880   \nstd       0.691448          0.678306         0.133550   63055.625278   \nmin    2020.000000          0.000000         0.000000    5132.000000   \n25%    2022.000000          1.000000         1.000000   95000.000000   \n50%    2022.000000          2.000000         1.000000  135000.000000   \n75%    2023.000000          2.000000         1.000000  175000.000000   \nmax    2023.000000          3.000000         3.000000  450000.000000   \n\n       remote_ratio  \ncount   3755.000000  \nmean      46.271638  \nstd       48.589050  \nmin        0.000000  \n25%        0.000000  \n50%        0.000000  \n75%      100.000000  \nmax      100.000000  ",
      "text/html": "<div>\n<style scoped>\n    .dataframe tbody tr th:only-of-type {\n        vertical-align: middle;\n    }\n\n    .dataframe tbody tr th {\n        vertical-align: top;\n    }\n\n    .dataframe thead th {\n        text-align: right;\n    }\n</style>\n<table border=\"1\" class=\"dataframe\">\n  <thead>\n    <tr style=\"text-align: right;\">\n      <th></th>\n      <th>work_year</th>\n      <th>experience_level</th>\n      <th>employment_type</th>\n      <th>salary_in_usd</th>\n      <th>remote_ratio</th>\n    </tr>\n  </thead>\n  <tbody>\n    <tr>\n      <th>count</th>\n      <td>3755.000000</td>\n      <td>3755.000000</td>\n      <td>3755.000000</td>\n      <td>3755.000000</td>\n      <td>3755.000000</td>\n    </tr>\n    <tr>\n      <th>mean</th>\n      <td>2022.373635</td>\n      <td>1.645539</td>\n      <td>1.003462</td>\n      <td>137570.389880</td>\n      <td>46.271638</td>\n    </tr>\n    <tr>\n      <th>std</th>\n      <td>0.691448</td>\n      <td>0.678306</td>\n      <td>0.133550</td>\n      <td>63055.625278</td>\n      <td>48.589050</td>\n    </tr>\n    <tr>\n      <th>min</th>\n      <td>2020.000000</td>\n      <td>0.000000</td>\n      <td>0.000000</td>\n      <td>5132.000000</td>\n      <td>0.000000</td>\n    </tr>\n    <tr>\n      <th>25%</th>\n      <td>2022.000000</td>\n      <td>1.000000</td>\n      <td>1.000000</td>\n      <td>95000.000000</td>\n      <td>0.000000</td>\n    </tr>\n    <tr>\n      <th>50%</th>\n      <td>2022.000000</td>\n      <td>2.000000</td>\n      <td>1.000000</td>\n      <td>135000.000000</td>\n      <td>0.000000</td>\n    </tr>\n    <tr>\n      <th>75%</th>\n      <td>2023.000000</td>\n      <td>2.000000</td>\n      <td>1.000000</td>\n      <td>175000.000000</td>\n      <td>100.000000</td>\n    </tr>\n    <tr>\n      <th>max</th>\n      <td>2023.000000</td>\n      <td>3.000000</td>\n      <td>3.000000</td>\n      <td>450000.000000</td>\n      <td>100.000000</td>\n    </tr>\n  </tbody>\n</table>\n</div>"
     },
     "execution_count": 106,
     "metadata": {},
     "output_type": "execute_result"
    }
   ],
   "source": [
    "# Part 1\n",
    "# Let problem2_df be the pandas dataframe that contains the data from the file\n",
    "data = pd.read_csv('./data/salaries.csv')\n",
    "problem2_df = data.copy()\n",
    "problem2_df.describe()"
   ]
  },
  {
   "cell_type": "code",
   "execution_count": 88,
   "id": "76f1ce19",
   "metadata": {
    "deletable": false,
    "lx_assignment_number": "vB",
    "lx_assignment_type": "EXAM",
    "lx_assignment_type2print": "Exam",
    "lx_problem_cell_type": "PROBLEM",
    "lx_problem_number": "2",
    "lx_problem_points": "13",
    "ExecuteTime": {
     "end_time": "2024-01-02T15:40:17.813543Z",
     "start_time": "2024-01-02T15:40:17.807062Z"
    }
   },
   "outputs": [
    {
     "name": "stdout",
     "output_type": "stream",
     "text": [
      "Index(['work_year', 'experience_level', 'employment_type', 'salary_in_usd',\n",
      "       'remote_ratio'],\n",
      "      dtype='object')\n"
     ]
    }
   ],
   "source": [
    "# Part 1\n",
    "print(data.columns)\n",
    "# Fill in the features as a list of strings of the names of the columns\n",
    "\n",
    "problem2_features = data.drop('salary_in_usd', axis=1).columns\n",
    "\n",
    "# Fill in the target as a string with the correct column name\n",
    "\n",
    "problem2_target = 'salary_in_usd'"
   ]
  },
  {
   "cell_type": "code",
   "execution_count": 89,
   "id": "180affee",
   "metadata": {
    "deletable": false,
    "lx_assignment_number": "vB",
    "lx_assignment_type": "EXAM",
    "lx_assignment_type2print": "Exam",
    "lx_problem_cell_type": "PROBLEM",
    "lx_problem_number": "2",
    "lx_problem_points": "13",
    "ExecuteTime": {
     "end_time": "2024-01-02T15:40:18.300042Z",
     "start_time": "2024-01-02T15:40:18.293039Z"
    }
   },
   "outputs": [],
   "source": [
    "# Part 2\n",
    "#Split the data into train and test. [1p]\n",
    "from sklearn.model_selection import train_test_split\n",
    "# Split the data into train and test using train_test_split\n",
    "# keep the train size as 0.8 and use random_state=42\n",
    "problem2_X_train, problem2_X_test, problem2_y_train, problem2_y_test = train_test_split(\n",
    "    data[problem2_features], data[problem2_target],\n",
    "    train_size=.2, random_state=42\n",
    ")"
   ]
  },
  {
   "cell_type": "code",
   "execution_count": 90,
   "id": "f6234a3e",
   "metadata": {
    "deletable": false,
    "lx_assignment_number": "vB",
    "lx_assignment_type": "EXAM",
    "lx_assignment_type2print": "Exam",
    "lx_problem_cell_type": "PROBLEM",
    "lx_problem_number": "2",
    "lx_problem_points": "13",
    "ExecuteTime": {
     "end_time": "2024-01-02T15:40:19.135822Z",
     "start_time": "2024-01-02T15:40:19.127460Z"
    }
   },
   "outputs": [
    {
     "data": {
      "text/plain": "LinearRegression()",
      "text/html": "<style>#sk-container-id-2 {color: black;}#sk-container-id-2 pre{padding: 0;}#sk-container-id-2 div.sk-toggleable {background-color: white;}#sk-container-id-2 label.sk-toggleable__label {cursor: pointer;display: block;width: 100%;margin-bottom: 0;padding: 0.3em;box-sizing: border-box;text-align: center;}#sk-container-id-2 label.sk-toggleable__label-arrow:before {content: \"▸\";float: left;margin-right: 0.25em;color: #696969;}#sk-container-id-2 label.sk-toggleable__label-arrow:hover:before {color: black;}#sk-container-id-2 div.sk-estimator:hover label.sk-toggleable__label-arrow:before {color: black;}#sk-container-id-2 div.sk-toggleable__content {max-height: 0;max-width: 0;overflow: hidden;text-align: left;background-color: #f0f8ff;}#sk-container-id-2 div.sk-toggleable__content pre {margin: 0.2em;color: black;border-radius: 0.25em;background-color: #f0f8ff;}#sk-container-id-2 input.sk-toggleable__control:checked~div.sk-toggleable__content {max-height: 200px;max-width: 100%;overflow: auto;}#sk-container-id-2 input.sk-toggleable__control:checked~label.sk-toggleable__label-arrow:before {content: \"▾\";}#sk-container-id-2 div.sk-estimator input.sk-toggleable__control:checked~label.sk-toggleable__label {background-color: #d4ebff;}#sk-container-id-2 div.sk-label input.sk-toggleable__control:checked~label.sk-toggleable__label {background-color: #d4ebff;}#sk-container-id-2 input.sk-hidden--visually {border: 0;clip: rect(1px 1px 1px 1px);clip: rect(1px, 1px, 1px, 1px);height: 1px;margin: -1px;overflow: hidden;padding: 0;position: absolute;width: 1px;}#sk-container-id-2 div.sk-estimator {font-family: monospace;background-color: #f0f8ff;border: 1px dotted black;border-radius: 0.25em;box-sizing: border-box;margin-bottom: 0.5em;}#sk-container-id-2 div.sk-estimator:hover {background-color: #d4ebff;}#sk-container-id-2 div.sk-parallel-item::after {content: \"\";width: 100%;border-bottom: 1px solid gray;flex-grow: 1;}#sk-container-id-2 div.sk-label:hover label.sk-toggleable__label {background-color: #d4ebff;}#sk-container-id-2 div.sk-serial::before {content: \"\";position: absolute;border-left: 1px solid gray;box-sizing: border-box;top: 0;bottom: 0;left: 50%;z-index: 0;}#sk-container-id-2 div.sk-serial {display: flex;flex-direction: column;align-items: center;background-color: white;padding-right: 0.2em;padding-left: 0.2em;position: relative;}#sk-container-id-2 div.sk-item {position: relative;z-index: 1;}#sk-container-id-2 div.sk-parallel {display: flex;align-items: stretch;justify-content: center;background-color: white;position: relative;}#sk-container-id-2 div.sk-item::before, #sk-container-id-2 div.sk-parallel-item::before {content: \"\";position: absolute;border-left: 1px solid gray;box-sizing: border-box;top: 0;bottom: 0;left: 50%;z-index: -1;}#sk-container-id-2 div.sk-parallel-item {display: flex;flex-direction: column;z-index: 1;position: relative;background-color: white;}#sk-container-id-2 div.sk-parallel-item:first-child::after {align-self: flex-end;width: 50%;}#sk-container-id-2 div.sk-parallel-item:last-child::after {align-self: flex-start;width: 50%;}#sk-container-id-2 div.sk-parallel-item:only-child::after {width: 0;}#sk-container-id-2 div.sk-dashed-wrapped {border: 1px dashed gray;margin: 0 0.4em 0.5em 0.4em;box-sizing: border-box;padding-bottom: 0.4em;background-color: white;}#sk-container-id-2 div.sk-label label {font-family: monospace;font-weight: bold;display: inline-block;line-height: 1.2em;}#sk-container-id-2 div.sk-label-container {text-align: center;}#sk-container-id-2 div.sk-container {/* jupyter's `normalize.less` sets `[hidden] { display: none; }` but bootstrap.min.css set `[hidden] { display: none !important; }` so we also need the `!important` here to be able to override the default hidden behavior on the sphinx rendered scikit-learn.org. See: https://github.com/scikit-learn/scikit-learn/issues/21755 */display: inline-block !important;position: relative;}#sk-container-id-2 div.sk-text-repr-fallback {display: none;}</style><div id=\"sk-container-id-2\" class=\"sk-top-container\"><div class=\"sk-text-repr-fallback\"><pre>LinearRegression()</pre><b>In a Jupyter environment, please rerun this cell to show the HTML representation or trust the notebook. <br />On GitHub, the HTML representation is unable to render, please try loading this page with nbviewer.org.</b></div><div class=\"sk-container\" hidden><div class=\"sk-item\"><div class=\"sk-estimator sk-toggleable\"><input class=\"sk-toggleable__control sk-hidden--visually\" id=\"sk-estimator-id-2\" type=\"checkbox\" checked><label for=\"sk-estimator-id-2\" class=\"sk-toggleable__label sk-toggleable__label-arrow\">LinearRegression</label><div class=\"sk-toggleable__content\"><pre>LinearRegression()</pre></div></div></div></div></div>"
     },
     "execution_count": 90,
     "metadata": {},
     "output_type": "execute_result"
    }
   ],
   "source": [
    "# Part 3\n",
    "from sklearn.linear_model import LinearRegression\n",
    "# Include the necessary imports\n",
    "\n",
    "# Initialize your linear regression model\n",
    "problem2_model = LinearRegression()\n",
    "\n",
    "# Train your model on the training data\n",
    "problem2_model.fit(problem2_X_train, problem2_y_train)"
   ]
  },
  {
   "cell_type": "markdown",
   "id": "d1bce6f8",
   "metadata": {
    "deletable": false,
    "lx_assignment_number": "vB",
    "lx_assignment_type": "EXAM",
    "lx_assignment_type2print": "Exam",
    "lx_problem_cell_type": "PROBLEM",
    "lx_problem_number": "2",
    "lx_problem_points": "13"
   },
   "source": [
    "## Part 4\n",
    "\n",
    "Double click this cell to enter edit mode and write your answer for part 4 below this line.\n"
   ]
  },
  {
   "cell_type": "code",
   "execution_count": 91,
   "id": "4655f73d2549346c",
   "metadata": {
    "deletable": false,
    "lx_assignment_number": "vB",
    "lx_assignment_type": "EXAM",
    "lx_assignment_type2print": "Exam",
    "lx_problem_cell_type": "PROBLEM",
    "lx_problem_number": "2",
    "lx_problem_points": "13",
    "ExecuteTime": {
     "end_time": "2024-01-02T15:40:22.763072Z",
     "start_time": "2024-01-02T15:40:22.644924Z"
    }
   },
   "outputs": [
    {
     "name": "stdout",
     "output_type": "stream",
     "text": [
      "MAE = 43356.595457346746\n",
      "R2 = 0.194165621751771\n"
     ]
    },
    {
     "data": {
      "text/plain": "<Figure size 640x480 with 1 Axes>",
      "image/png": "[encoded data removed]"
     },
     "metadata": {},
     "output_type": "display_data"
    }
   ],
   "source": [
    "# Part 4\n",
    "# 4. Come up with a reasonable metric and compute it. Provide plots that show the performance of the model. Reason about the performance. [4p]\n",
    "from sklearn.metrics import r2_score, mean_absolute_error\n",
    "import seaborn as sns\n",
    "from statsmodels.api import qqplot\n",
    "import matplotlib.pyplot as plt\n",
    "\n",
    "predictions = problem2_model.predict(problem2_X_test)\n",
    "print(f'MAE = {mean_absolute_error(problem2_y_test, predictions)}')\n",
    "print(f'R2 = {r2_score(problem2_y_test, predictions)}')\n",
    "fig = qqplot(np.array(problem2_y_test - predictions),fit=True, line=\"45\")\n",
    "plt.show(fig)"
   ]
  },
  {
   "cell_type": "markdown",
   "source": [
    "#### Write the code to diagnose your model\n",
    "##### peformance is decent but not by any means good. With an R sqaured score of about 20% we can only explain 20 percent of the variance seen in salary. This is also reflected in the MAE being around 43 thousand dollars. That means that the expected distance of our prediction to it's true value is off by 43000 on average. It seems the errors are hetergenously distributed too and the error around our predictions higher for higher incomes. The models performance could be improved with a non-linear model and better features (that account for more variance in the dependent variable)."
   ],
   "metadata": {
    "collapsed": false
   },
   "id": "6047084dd28dbcc"
  },
  {
   "cell_type": "markdown",
   "id": "0054be0a",
   "metadata": {
    "deletable": false,
    "lx_assignment_number": "vB",
    "lx_assignment_type": "EXAM",
    "lx_assignment_type2print": "Exam",
    "lx_problem_cell_type": "PROBLEM",
    "lx_problem_number": "2",
    "lx_problem_points": "13"
   },
   "source": [
    "## Part 5\n",
    "\n",
    "Double click this cell to enter edit mode and write your answer for part 5 below this line.\n"
   ]
  },
  {
   "cell_type": "code",
   "execution_count": 105,
   "id": "9e3c72be",
   "metadata": {
    "deletable": false,
    "lx_assignment_number": "vB",
    "lx_assignment_type": "EXAM",
    "lx_assignment_type2print": "Exam",
    "lx_problem_cell_type": "PROBLEM",
    "lx_problem_number": "2",
    "lx_problem_points": "13",
    "ExecuteTime": {
     "end_time": "2024-01-02T15:53:34.287973Z",
     "start_time": "2024-01-02T15:53:34.273596Z"
    }
   },
   "outputs": [
    {
     "name": "stdout",
     "output_type": "stream",
     "text": [
      "pred sal = [118602.24928459]\n",
      "[('work_year', 15545.888467218509), ('experience_level', 40239.000947358196), ('employment_type', 15390.201371064959), ('remote_ratio', 29.874745945484353)]\n",
      "B_0 = -31386359.32221688\n"
     ]
    },
    {
     "name": "stderr",
     "output_type": "stream",
     "text": [
      "/Users/finnvaughankraska/IdeaProjects/data_science/venv/lib/python3.11/site-packages/sklearn/base.py:465: UserWarning: X does not have valid feature names, but LinearRegression was fitted with feature names\n",
      "  warnings.warn(\n"
     ]
    }
   ],
   "source": [
    "# Part 5\n",
    "# Predict the 2023 salary of a data scientist that works full time (1) at mid employment level (1) with 0 remote ratio. Then, looking at the output of `problem2_model.coef_`, which are the coefficients of the linear model, would a higher remote ratio result in a higher predicted salary or vice versa??\n",
    "# Put the code for part 5 below this line\n",
    "print(f'pred sal = {problem2_model.predict([[2023, 1, 1, 0]])}')\n",
    "print(list(zip(problem2_model.feature_names_in_,problem2_model.coef_)))\n",
    "print(f'B_0 = {problem2_model.intercept_}')"
   ]
  },
  {
   "cell_type": "code",
   "execution_count": null,
   "id": "2398f600",
   "metadata": {
    "deletable": false,
    "lx_assignment_number": "vB",
    "lx_assignment_type": "EXAM",
    "lx_assignment_type2print": "Exam",
    "lx_problem_cell_type": "PROBLEM",
    "lx_problem_number": "2",
    "lx_problem_points": "13"
   },
   "outputs": [],
   "source": [
    "# Part 5\n",
    "# more remote is associated with higher salary (coef is positive)\n",
    "problem2_predicted_salary = 118602.24928459"
   ]
  },
  {
   "cell_type": "markdown",
   "id": "109a748c",
   "metadata": {
    "deletable": false,
    "lx_assignment_number": "vB",
    "lx_assignment_type": "EXAM",
    "lx_assignment_type2print": "Exam",
    "lx_problem_cell_type": "PROBLEM",
    "lx_problem_number": "2",
    "lx_problem_points": "13"
   },
   "source": [
    "\n",
    "## Part 6\n",
    "\n",
    "Double click this cell to enter edit mode and write your answer for part 6 below this line.\n",
    "\n"
   ]
  },
  {
   "cell_type": "code",
   "execution_count": null,
   "id": "e413ddd3",
   "metadata": {
    "deletable": false,
    "lx_assignment_number": "vB",
    "lx_assignment_type": "EXAM",
    "lx_assignment_type2print": "Exam",
    "lx_problem_cell_type": "PROBLEM",
    "lx_problem_number": "2",
    "lx_problem_points": "13"
   },
   "outputs": [],
   "source": [
    "# Part 6\n",
    "\n",
    "# Put the code for part 6 below this line\n",
    "Utils.plotEDF(Utils.makeEDF(problem2_y_test-predictions), confidence_band=True)"
   ]
  },
  {
   "cell_type": "markdown",
   "id": "b0937fcd",
   "metadata": {
    "deletable": false,
    "lx_assignment_number": "vB",
    "lx_assignment_type": "EXAM",
    "lx_assignment_type2print": "Exam",
    "lx_problem_cell_type": "PROBLEM",
    "lx_problem_number": "3",
    "lx_problem_points": "13"
   },
   "source": [
    "---\n",
    "## Exam vB, PROBLEM 3\n",
    "Maximum Points = 13"
   ]
  },
  {
   "cell_type": "markdown",
   "id": "0812d38b",
   "metadata": {
    "deletable": false,
    "lx_assignment_number": "vB",
    "lx_assignment_type": "EXAM",
    "lx_assignment_type2print": "Exam",
    "lx_problem_cell_type": "PROBLEM",
    "lx_problem_number": "3",
    "lx_problem_points": "13"
   },
   "source": [
    "\n",
    "## Random variable generation\n",
    "\n",
    "1. [4p] Using inversion sampling, construct 1000 samples from the below distribution\n",
    "$$\n",
    "    F[x] = \n",
    "    \\begin{cases}\n",
    "        0, & x \\leq 0 \\\\\n",
    "        e^x-1, & 0 < x < \\ln(2) \\\\\n",
    "        1, & x \\geq \\ln(2)\n",
    "    \\end{cases}\n",
    "$$\n",
    "2. [2p] Use the above 1000 samples to estimate the mean and variance\n",
    "3. [4p] Using the **Accept-Reject** sampler (**Algorithm 1** in TFDS notes) construct 1000 samples from the same distribution, what proposal distribution did you choose and why? What proportion of samples where accepted?\n",
    "4. [3p] Explain if it is possible to sample from the density\n",
    "$$\n",
    "    f(x) = C e^{-(x^2-2)^2}\n",
    "$$\n",
    "using the **Accept-Reject** sampler (**Algorithm 1** in TFDS notes) with sampling density given the Gaussian. Here $C$ is a constant to make sure that $f$ is a density, it between roughly $1.34$ and $1.35$."
   ]
  },
  {
   "cell_type": "code",
   "execution_count": 147,
   "id": "aedbb2d9",
   "metadata": {
    "deletable": false,
    "lx_assignment_number": "vB",
    "lx_assignment_type": "EXAM",
    "lx_assignment_type2print": "Exam",
    "lx_problem_cell_type": "PROBLEM",
    "lx_problem_number": "3",
    "lx_problem_points": "13",
    "ExecuteTime": {
     "end_time": "2024-01-02T22:13:18.298727Z",
     "start_time": "2024-01-02T22:13:18.289384Z"
    }
   },
   "outputs": [],
   "source": [
    "# Part 1\n",
    "\n",
    "def f_of_x(x): #this is a CDF\n",
    "    if x <= 0:\n",
    "        return 0\n",
    "    elif x < np.log(2):\n",
    "        return np.exp(x) - 1\n",
    "    else: return 1;\n",
    "\n",
    "def df_of_x(x): #ie the pdf\n",
    "    if x <= 0:\n",
    "        return 0\n",
    "    elif x < np.log(2):\n",
    "        return np.exp(x)\n",
    "    else: return 0;\n",
    "\n",
    "def f_inverse_of_x(x):\n",
    "    if x < 0: return 0;\n",
    "    if x > 1: return 0;\n",
    "    return np.log(x+1)\n"
   ]
  },
  {
   "cell_type": "code",
   "execution_count": 152,
   "id": "4f971b1e",
   "metadata": {
    "deletable": false,
    "lx_assignment_number": "vB",
    "lx_assignment_type": "EXAM",
    "lx_assignment_type2print": "Exam",
    "lx_problem_cell_type": "PROBLEM",
    "lx_problem_number": "3",
    "lx_problem_points": "13",
    "ExecuteTime": {
     "end_time": "2024-01-02T22:20:26.149594Z",
     "start_time": "2024-01-02T22:20:25.759987Z"
    }
   },
   "outputs": [
    {
     "data": {
      "text/plain": "<Axes: ylabel='Density'>"
     },
     "execution_count": 152,
     "metadata": {},
     "output_type": "execute_result"
    },
    {
     "data": {
      "text/plain": "<Figure size 640x480 with 1 Axes>",
      "image/png": "[encoded data removed]"
     },
     "metadata": {},
     "output_type": "display_data"
    }
   ],
   "source": [
    "# Part 1\n",
    "\n",
    "# Put the resulting samples into the following variable\n",
    "problem3_samples = [f_inverse_of_x(x) for x in np.random.uniform(size=100000)]\n",
    "sns.kdeplot(problem3_samples)\n",
    "# sns.lineplot(x=np.arange(-1,1.5,.01),y=[df_of_x(x) for x in np.arange(-1,1.5,.01)])"
   ]
  },
  {
   "cell_type": "code",
   "execution_count": 149,
   "id": "06c98d26",
   "metadata": {
    "deletable": false,
    "lx_assignment_number": "vB",
    "lx_assignment_type": "EXAM",
    "lx_assignment_type2print": "Exam",
    "lx_problem_cell_type": "PROBLEM",
    "lx_problem_number": "3",
    "lx_problem_points": "13",
    "ExecuteTime": {
     "end_time": "2024-01-02T22:13:21.259627Z",
     "start_time": "2024-01-02T22:13:21.255374Z"
    }
   },
   "outputs": [],
   "source": [
    "# Part 2\n",
    "\n",
    "problem3_mean = np.mean(problem3_samples)\n",
    "\n",
    "problem3_variance = np.var(problem3_samples)"
   ]
  },
  {
   "cell_type": "code",
   "execution_count": 153,
   "id": "92aa6bd1",
   "metadata": {
    "deletable": false,
    "lx_assignment_number": "vB",
    "lx_assignment_type": "EXAM",
    "lx_assignment_type2print": "Exam",
    "lx_problem_cell_type": "PROBLEM",
    "lx_problem_number": "3",
    "lx_problem_points": "13",
    "ExecuteTime": {
     "end_time": "2024-01-02T22:45:05.153429Z",
     "start_time": "2024-01-02T22:45:04.309678Z"
    }
   },
   "outputs": [
    {
     "name": "stdout",
     "output_type": "stream",
     "text": [
      "Attempted total = 200034, rate = 0.5\n"
     ]
    },
    {
     "data": {
      "text/plain": "<Axes: ylabel='Density'>"
     },
     "execution_count": 153,
     "metadata": {},
     "output_type": "execute_result"
    },
    {
     "data": {
      "text/plain": "<Figure size 640x480 with 1 Axes>",
      "image/png": "[encoded data removed]"
     },
     "metadata": {},
     "output_type": "display_data"
    }
   ],
   "source": [
    "# Part 3\n",
    "\n",
    "\n",
    "# Write your code below\n",
    "samples = []\n",
    "attempts = 0\n",
    "while len(samples) < 100000:\n",
    "    attempts += 1\n",
    "    random_x = np.random.uniform()\n",
    "    random_y = 2 * np.random.uniform()\n",
    "    # print('---')\n",
    "    # print(f'({random_x}, {random_y}), f(x)={f_of_x(random_x)}')\n",
    "    if random_y <= df_of_x(random_x):\n",
    "        samples.append(random_x)\n",
    "print(f'Attempted total = {attempts}, rate = {np.round(len(samples)/attempts, decimals=3)}')\n",
    "sns.kdeplot(samples)"
   ]
  },
  {
   "cell_type": "code",
   "execution_count": null,
   "id": "32b39b22",
   "metadata": {
    "deletable": false,
    "lx_assignment_number": "vB",
    "lx_assignment_type": "EXAM",
    "lx_assignment_type2print": "Exam",
    "lx_problem_cell_type": "PROBLEM",
    "lx_problem_number": "3",
    "lx_problem_points": "13"
   },
   "outputs": [],
   "source": [
    "# Part 3\n",
    "\n",
    "# Write your answer in this cell below\n",
    "\n",
    "problem3_samples_accept_reject = .5\n",
    "\n",
    "# Put your answer for the proportion of samples accepted below\n",
    "\n",
    "problem3_acceptance_rate = .5"
   ]
  },
  {
   "cell_type": "markdown",
   "id": "a48efb49",
   "metadata": {
    "deletable": false,
    "lx_assignment_number": "vB",
    "lx_assignment_type": "EXAM",
    "lx_assignment_type2print": "Exam",
    "lx_problem_cell_type": "PROBLEM",
    "lx_problem_number": "3",
    "lx_problem_points": "13"
   },
   "source": [
    "# Part 3\n",
    "\n",
    "### Double click this cell and write you answer for part 3 below, explain what proposal distibution you chose and why you can choose it.\n",
    "#### Chose the uniform dist since since I know i can capture the dist of interest with certainty by raising the range of the uniform such that it ecapsulates all of the PDF. ALso just easy to work with since the distribution we want samples from is bounded (no tails to worry about)."
   ]
  },
  {
   "cell_type": "markdown",
   "id": "24805e73",
   "metadata": {
    "deletable": false,
    "lx_assignment_number": "vB",
    "lx_assignment_type": "EXAM",
    "lx_assignment_type2print": "Exam",
    "lx_problem_cell_type": "PROBLEM",
    "lx_problem_number": "3",
    "lx_problem_points": "13"
   },
   "source": [
    "# Part 4\n",
    "\n",
    "### Double click this cell and write you answer for part 4 below, explain if the Gaussian works as a proposal distribution for this density.\n",
    "#### -should work if we scale the gaussian up and out enough such that the tails are an upper bound of the f(x) function. Something to note though, the value of C suggested above does not actually make f(x) a valid density function. The valid domain is -inf to +inf and the integral on that period evaluates to way more than one. Are we meant to assume a restricted domain of x? Or is this just a mistake in calculation?\n"
   ]
  },
  {
   "cell_type": "code",
   "execution_count": 177,
   "outputs": [
    {
     "name": "stdout",
     "output_type": "stream",
     "text": [
      "Attempted total = 275363, rate = 0.036\n"
     ]
    },
    {
     "data": {
      "text/plain": "<Axes: ylabel='Count'>"
     },
     "execution_count": 177,
     "metadata": {},
     "output_type": "execute_result"
    },
    {
     "data": {
      "text/plain": "<Figure size 640x480 with 1 Axes>",
      "image/png": "[encoded data removed]"
     },
     "metadata": {},
     "output_type": "display_data"
    }
   ],
   "source": [
    "C = .746\n",
    "def other_function(x):\n",
    "    return C * np.exp(-(x**2-2)**2)\n",
    "samples_0 = []\n",
    "attempts_0 = 0\n",
    "while len(samples_0) < 10000:\n",
    "    attempts_0 += 1\n",
    "    random_x = np.random.normal(0, 1.2)\n",
    "    random_y = 5 * np.random.uniform()\n",
    "    # print('---')\n",
    "    # print(f'({random_x}, {random_y}), f(x)={f_of_x(random_x)}')\n",
    "    if random_y <= other_function(random_x):\n",
    "        samples_0.append(random_x)\n",
    "print(f'Attempted total = {attempts_0}, rate = {np.round(len(samples_0)/attempts_0, decimals=3)}')\n",
    "sns.histplot(samples_0)"
   ],
   "metadata": {
    "collapsed": false,
    "ExecuteTime": {
     "end_time": "2024-01-02T23:09:09.441105Z",
     "start_time": "2024-01-02T23:09:08.856867Z"
    }
   },
   "id": "bf2aded9f18f9dbb"
  },
  {
   "cell_type": "code",
   "execution_count": null,
   "outputs": [],
   "source": [],
   "metadata": {
    "collapsed": false
   },
   "id": "ecc74a56261067b3"
  }
 ],
 "metadata": {
  "kernelspec": {
   "display_name": "Python 3 (ipykernel)",
   "language": "python",
   "name": "python3"
  },
  "language_info": {
   "codemirror_mode": {
    "name": "ipython",
    "version": 3
   },
   "file_extension": ".py",
   "mimetype": "text/x-python",
   "name": "python",
   "nbconvert_exporter": "python",
   "pygments_lexer": "ipython3",
   "version": "3.10.9"
  },
  "lx_assignment_number": "vB",
  "lx_course_instance": "2022",
  "lx_course_name": "Introduction to Data Science",
  "lx_course_number": "1MS041"
 },
 "nbformat": 4,
 "nbformat_minor": 5
}
