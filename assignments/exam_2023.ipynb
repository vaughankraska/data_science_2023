{
 "cells": [
  {
   "cell_type": "markdown",
   "id": "1502bfeb",
   "metadata": {
    "deletable": false
   },
   "source": [
    "# Exam 14th of June 2023, 8.00-13.00 for the course 1MS041 (Introduction to Data Science / Introduktion till dataanalys)\n",
    "\n",
    "## Instructions:\n",
    "1. Complete the problems by following instructions.\n",
    "2. When done, submit this file with your solutions saved, following the instruction sheet.\n",
    "\n",
    "This exam has 3 problems for a total of 40 points, to pass you need\n",
    "20 points.\n",
    "\n",
    "## Some general hints and information:\n",
    "* Try to answer all questions even if you are uncertain.\n",
    "* Comment your code, so that if you get the wrong answer I can understand how you thought\n",
    "this can give you some points even though the code does not run.\n",
    "* Follow the instruction sheet rigorously.\n",
    "* This exam is partially autograded, but your code and your free text answers are manually graded anonymously.\n",
    "* If there are any questions, please ask the exam guards, they will escalate it to me if necessary.\n",
    "* I (Benny) will visit the exam room at around 10:30 to see if there are any questions.\n",
    "\n",
    "## Tips for free text answers\n",
    "* Be VERY clear with your reasoning, there should be zero ambiguity in what you are referring to.\n",
    "* If you want to include math, you can write LaTeX in the Markdown cells, for instance `$f(x)=x^2$` will be rendered as $f(x)=x^2$ and `$$f(x) = x^2$$` will become an equation line, as follows\n",
    "$$f(x) = x^2$$\n",
    "Another example is `$$f_{Y \\mid X}(y,x) = P(Y = y \\mid X = x) = \\exp(\\alpha \\cdot x + \\beta)$$` which renders as\n",
    "$$f_{Y \\mid X}(y,x) = P(Y = y \\mid X = x) = \\exp(\\alpha \\cdot x + \\beta)$$\n",
    "\n",
    "## Finally some rules:\n",
    "* You may not communicate with others during the exam, for example:\n",
    "    * You cannot ask for help in Stack-Overflow or other such help forums during the Exam.\n",
    "    * You may not communicate with AI's, for instance ChatGPT.\n",
    "    * Your on-line and off-line activity is being monitored according to the examination rules.\n",
    "\n",
    "## Good luck!"
   ]
  },
  {
   "cell_type": "code",
   "execution_count": null,
   "outputs": [],
   "source": [
    "import numpy as np\n",
    "\n",
    "# Insert your anonymous exam ID as a string in the variable below\n",
    "examID=\"XXX\"\n"
   ],
   "metadata": {
    "collapsed": false
   },
   "id": "5a4578b73cb4d188"
  },
  {
   "cell_type": "markdown",
   "source": [
    "---\n",
    "## Exam vB, PROBLEM 1\n",
    "Maximum Points = 14"
   ],
   "metadata": {
    "collapsed": false
   },
   "id": "6306d8c894fa6152"
  },
  {
   "cell_type": "markdown",
   "source": [
    "A courier company operates a fleet of delivery trucks that make deliveries to different parts of the city. The trucks are equipped with GPS tracking devices that record the location of each truck at regular intervals. The locations are divided into three regions: downtown, the suburbs, and the countryside. The following table shows the probabilities of a truck transitioning between these regions at each time step:\n",
    "\n",
    "| Current region | Probability of transitioning to downtown | Probability of transitioning to the suburbs | Probability of transitioning to the countryside |\n",
    "|----------------|--------------------------------------------|-----------------------------------------------|------------------------------------------------|\n",
    "| Downtown       | 0.3                                      | 0.4                                           | 0.3                                            |\n",
    "| Suburbs        | 0.2                                      | 0.5                                           | 0.3                                            |\n",
    "| Countryside    | 0.4                                      | 0.3                                           | 0.3                                            |\n",
    "\n",
    "1. If a truck is currently in the suburbs, what is the probability that it will be in the downtown region after two time steps? [2p]\n",
    "2. If a truck is currently in the suburbs, what is the probability that it will be in the downtown region **the first time** after two time steps? [2p]\n",
    "3. Is this Markov chain irreducible? Explain your answer. [3p]\n",
    "4. What is the stationary distribution? [3p]\n",
    "5. Advanced question: What is the expected number of steps until the first time one enters the suburbs region having started in the downtown region. Hint: to get within 1 decimal point, it is enough to compute the probabilities for hitting times below 30. Motivate your answer in detail [4p]. You could also solve this question by simulation, but this gives you a maximum of [2p].\n",
    "\n"
   ],
   "metadata": {
    "collapsed": false
   },
   "id": "3185eb5b0458c9b0"
  },
  {
   "cell_type": "code",
   "execution_count": null,
   "outputs": [],
   "source": [
    "# Part 1\n",
    "\n",
    "# Fill in the answer to part 1 below\n",
    "problem1_p1 = XXX"
   ],
   "metadata": {
    "collapsed": false
   },
   "id": "cba698815ca25b92"
  },
  {
   "cell_type": "code",
   "execution_count": null,
   "outputs": [],
   "source": [
    "# Part 2\n",
    "\n",
    "# Fill in the answer to part 2 below\n",
    "problem1_p2 = XXX"
   ],
   "metadata": {
    "collapsed": false
   },
   "id": "8defec77454815ac"
  },
  {
   "cell_type": "code",
   "execution_count": null,
   "outputs": [],
   "source": [
    "# Part 3\n",
    "\n",
    "# Fill in the answer to part 3 below as a boolean\n",
    "problem1_irreducible = True/False"
   ],
   "metadata": {
    "collapsed": false
   },
   "id": "86920e02f6e720ff"
  },
  {
   "cell_type": "markdown",
   "source": [
    "\n",
    "## Part 3\n",
    "\n",
    "Double click this cell to enter edit mode and write your answer for part 3 below this line.\n"
   ],
   "metadata": {
    "collapsed": false
   },
   "id": "2439cdad76e51a4c"
  },
  {
   "cell_type": "code",
   "execution_count": null,
   "outputs": [],
   "source": [
    "# Part 4\n",
    "\n",
    "# Fill in the answer to part 4 below\n",
    "# the answer should be a numpy array of length 3\n",
    "# make sure that the entries sums to 1!\n",
    "problem1_stationary = XXX"
   ],
   "metadata": {
    "collapsed": false
   },
   "id": "10b3875894f2d649"
  },
  {
   "cell_type": "code",
   "execution_count": null,
   "outputs": [],
   "source": [
    "# Part 5\n",
    "\n",
    "# Fill in the answer to part 5 below\n",
    "# That is, the expected number of steps\n",
    "problem1_ET = XXX"
   ],
   "metadata": {
    "collapsed": false
   },
   "id": "ddd17f515b990f5b"
  },
  {
   "cell_type": "markdown",
   "source": [
    "\n",
    "## Part 5\n",
    "\n",
    "Double click this cell to enter edit mode and write your answer for part 5 below this line.\n"
   ],
   "metadata": {
    "collapsed": false
   },
   "id": "160cfc1225940466"
  },
  {
   "cell_type": "markdown",
   "source": [
    "---\n",
    "## Exam vB, PROBLEM 2\n",
    "Maximum Points = 13"
   ],
   "metadata": {
    "collapsed": false
   },
   "id": "726ac63749ffdb4f"
  },
  {
   "cell_type": "markdown",
   "source": [
    "\n",
    "You are given the \"Abalone\" dataset found in `data/abalone.csv`, which contains physical measurements of abalone (a type of sea shells) and the age of the abalone measured in **rings** (the number of rings in the shell) [https://en.wikipedia.org/wiki/Abalone](https://en.wikipedia.org/wiki/Abalone). Your task is to train a `linear regression` model to predict the age (Rings) of an abalone based on its physical measurements.\n",
    "\n",
    "To evaluate your model, you will split the dataset into a training set and a testing set. You will use the training set to train your model, and the testing set to evaluate its performance.\n",
    "\n",
    "1. Load the data into a pandas dataframe `problem2_df`. Based on the column names, figure out what are the features and the target and fill in the answer in the correct cell below. [2p]\n",
    "2. Split the data into train and test. [2p]\n",
    "3. Train the model. [1p]\n",
    "4. On the test set, evaluate the model by computing the mean absolute error and plot the empirical distribution function of the residual with confidence bands (i.e. using the DKW inequality and 95% confidence). Hint: you can use the function `plotEDF,makeEDF` combo from `Utils.py` that we have used numerous times, which also contains the option to have confidence bands. [3p]\n",
    "5. Provide a scatter plot where the x-axis corresponds to the predicted value and the y-axis is the true value, do this over the test set. [2p]\n",
    "6. Reason about the performance, for instance, is the value of the mean absolute error good/bad and what do you think about the scatter plot in point 5? [3p]\n"
   ],
   "metadata": {
    "collapsed": false
   },
   "id": "d633b1e1f179b868"
  },
  {
   "cell_type": "code",
   "execution_count": 41,
   "outputs": [
    {
     "data": {
      "text/plain": "            Length     Diameter       Height  Whole weight  Shucked weight  \\\ncount  4177.000000  4177.000000  4177.000000   4177.000000     4177.000000   \nmean      0.523992     0.407881     0.139516      0.828742        0.359367   \nstd       0.120093     0.099240     0.041827      0.490389        0.221963   \nmin       0.075000     0.055000     0.000000      0.002000        0.001000   \n25%       0.450000     0.350000     0.115000      0.441500        0.186000   \n50%       0.545000     0.425000     0.140000      0.799500        0.336000   \n75%       0.615000     0.480000     0.165000      1.153000        0.502000   \nmax       0.815000     0.650000     1.130000      2.825500        1.488000   \n\n       Viscera weight  Shell weight        Rings  \ncount     4177.000000   4177.000000  4177.000000  \nmean         0.180594      0.238831     9.933684  \nstd          0.109614      0.139203     3.224169  \nmin          0.000500      0.001500     1.000000  \n25%          0.093500      0.130000     8.000000  \n50%          0.171000      0.234000     9.000000  \n75%          0.253000      0.329000    11.000000  \nmax          0.760000      1.005000    29.000000  ",
      "text/html": "<div>\n<style scoped>\n    .dataframe tbody tr th:only-of-type {\n        vertical-align: middle;\n    }\n\n    .dataframe tbody tr th {\n        vertical-align: top;\n    }\n\n    .dataframe thead th {\n        text-align: right;\n    }\n</style>\n<table border=\"1\" class=\"dataframe\">\n  <thead>\n    <tr style=\"text-align: right;\">\n      <th></th>\n      <th>Length</th>\n      <th>Diameter</th>\n      <th>Height</th>\n      <th>Whole weight</th>\n      <th>Shucked weight</th>\n      <th>Viscera weight</th>\n      <th>Shell weight</th>\n      <th>Rings</th>\n    </tr>\n  </thead>\n  <tbody>\n    <tr>\n      <th>count</th>\n      <td>4177.000000</td>\n      <td>4177.000000</td>\n      <td>4177.000000</td>\n      <td>4177.000000</td>\n      <td>4177.000000</td>\n      <td>4177.000000</td>\n      <td>4177.000000</td>\n      <td>4177.000000</td>\n    </tr>\n    <tr>\n      <th>mean</th>\n      <td>0.523992</td>\n      <td>0.407881</td>\n      <td>0.139516</td>\n      <td>0.828742</td>\n      <td>0.359367</td>\n      <td>0.180594</td>\n      <td>0.238831</td>\n      <td>9.933684</td>\n    </tr>\n    <tr>\n      <th>std</th>\n      <td>0.120093</td>\n      <td>0.099240</td>\n      <td>0.041827</td>\n      <td>0.490389</td>\n      <td>0.221963</td>\n      <td>0.109614</td>\n      <td>0.139203</td>\n      <td>3.224169</td>\n    </tr>\n    <tr>\n      <th>min</th>\n      <td>0.075000</td>\n      <td>0.055000</td>\n      <td>0.000000</td>\n      <td>0.002000</td>\n      <td>0.001000</td>\n      <td>0.000500</td>\n      <td>0.001500</td>\n      <td>1.000000</td>\n    </tr>\n    <tr>\n      <th>25%</th>\n      <td>0.450000</td>\n      <td>0.350000</td>\n      <td>0.115000</td>\n      <td>0.441500</td>\n      <td>0.186000</td>\n      <td>0.093500</td>\n      <td>0.130000</td>\n      <td>8.000000</td>\n    </tr>\n    <tr>\n      <th>50%</th>\n      <td>0.545000</td>\n      <td>0.425000</td>\n      <td>0.140000</td>\n      <td>0.799500</td>\n      <td>0.336000</td>\n      <td>0.171000</td>\n      <td>0.234000</td>\n      <td>9.000000</td>\n    </tr>\n    <tr>\n      <th>75%</th>\n      <td>0.615000</td>\n      <td>0.480000</td>\n      <td>0.165000</td>\n      <td>1.153000</td>\n      <td>0.502000</td>\n      <td>0.253000</td>\n      <td>0.329000</td>\n      <td>11.000000</td>\n    </tr>\n    <tr>\n      <th>max</th>\n      <td>0.815000</td>\n      <td>0.650000</td>\n      <td>1.130000</td>\n      <td>2.825500</td>\n      <td>1.488000</td>\n      <td>0.760000</td>\n      <td>1.005000</td>\n      <td>29.000000</td>\n    </tr>\n  </tbody>\n</table>\n</div>"
     },
     "execution_count": 41,
     "metadata": {},
     "output_type": "execute_result"
    }
   ],
   "source": [
    "# Part 1\n",
    "# Let problem2_df be the pandas dataframe that contains the data from the file\n",
    "# data/abalone.csv\n",
    "import pandas as pd\n",
    "problem2_df = pd.read_csv('./data/abalone.csv')\n",
    "problem2_df.describe()"
   ],
   "metadata": {
    "collapsed": false,
    "ExecuteTime": {
     "end_time": "2024-01-01T12:04:42.797953Z",
     "start_time": "2024-01-01T12:04:42.780984Z"
    }
   },
   "id": "ec929fc17bd9339e"
  },
  {
   "cell_type": "code",
   "execution_count": 25,
   "id": "eff6e330",
   "metadata": {
    "deletable": false,
    "lx_assignment_number": "vB",
    "lx_assignment_type": "EXAM",
    "lx_assignment_type2print": "Exam",
    "lx_problem_cell_type": "PROBLEM",
    "lx_problem_number": "2",
    "lx_problem_points": "13",
    "ExecuteTime": {
     "end_time": "2024-01-01T11:32:51.043166Z",
     "start_time": "2024-01-01T11:32:51.036004Z"
    }
   },
   "outputs": [],
   "source": [
    "# Part 1\n",
    "from sklearn.model_selection import train_test_split\n",
    "X_train, X_test, y_train, y_test = train_test_split(problem2_df.drop('Rings', axis=1), problem2_df['Rings'], test_size=0.2, random_state=42)\n",
    "# Fill in the features as a list of strings of the names of the columns\n",
    "\n",
    "problem2_features = X_train.columns\n",
    "\n",
    "# Fill in the target as a string with the correct column name\n",
    "\n",
    "problem2_target = 'Rings'"
   ]
  },
  {
   "cell_type": "code",
   "execution_count": 26,
   "id": "2614db4e",
   "metadata": {
    "deletable": false,
    "lx_assignment_number": "vB",
    "lx_assignment_type": "EXAM",
    "lx_assignment_type2print": "Exam",
    "lx_problem_cell_type": "PROBLEM",
    "lx_problem_number": "2",
    "lx_problem_points": "13",
    "ExecuteTime": {
     "end_time": "2024-01-01T11:32:51.965749Z",
     "start_time": "2024-01-01T11:32:51.959590Z"
    }
   },
   "outputs": [],
   "source": [
    "# Part 2\n",
    "\n",
    "\n",
    "# Split the data into train and test using train_test_split\n",
    "# keep the train size as 0.8 and use random_state=42\n",
    "problem2_X_train,problem2_X_test,problem2_y_train,problem2_y_test = train_test_split(problem2_df.drop('Rings', axis=1), \n",
    "                                                                                     problem2_df['Rings'], \n",
    "                                                                                     test_size=0.2, \n",
    "                                                                                     random_state=42)"
   ]
  },
  {
   "cell_type": "code",
   "execution_count": 33,
   "id": "10349b69",
   "metadata": {
    "deletable": false,
    "lx_assignment_number": "vB",
    "lx_assignment_type": "EXAM",
    "lx_assignment_type2print": "Exam",
    "lx_problem_cell_type": "PROBLEM",
    "lx_problem_number": "2",
    "lx_problem_points": "13",
    "ExecuteTime": {
     "end_time": "2024-01-01T11:35:21.961635Z",
     "start_time": "2024-01-01T11:35:21.898270Z"
    }
   },
   "outputs": [
    {
     "data": {
      "text/plain": "Pipeline(steps=[('pre',\n                 ColumnTransformer(remainder='passthrough',\n                                   transformers=[('encode', OneHotEncoder(),\n                                                  ['Sex'])])),\n                ('model', LinearRegression())])",
      "text/html": "<style>#sk-container-id-3 {color: black;}#sk-container-id-3 pre{padding: 0;}#sk-container-id-3 div.sk-toggleable {background-color: white;}#sk-container-id-3 label.sk-toggleable__label {cursor: pointer;display: block;width: 100%;margin-bottom: 0;padding: 0.3em;box-sizing: border-box;text-align: center;}#sk-container-id-3 label.sk-toggleable__label-arrow:before {content: \"▸\";float: left;margin-right: 0.25em;color: #696969;}#sk-container-id-3 label.sk-toggleable__label-arrow:hover:before {color: black;}#sk-container-id-3 div.sk-estimator:hover label.sk-toggleable__label-arrow:before {color: black;}#sk-container-id-3 div.sk-toggleable__content {max-height: 0;max-width: 0;overflow: hidden;text-align: left;background-color: #f0f8ff;}#sk-container-id-3 div.sk-toggleable__content pre {margin: 0.2em;color: black;border-radius: 0.25em;background-color: #f0f8ff;}#sk-container-id-3 input.sk-toggleable__control:checked~div.sk-toggleable__content {max-height: 200px;max-width: 100%;overflow: auto;}#sk-container-id-3 input.sk-toggleable__control:checked~label.sk-toggleable__label-arrow:before {content: \"▾\";}#sk-container-id-3 div.sk-estimator input.sk-toggleable__control:checked~label.sk-toggleable__label {background-color: #d4ebff;}#sk-container-id-3 div.sk-label input.sk-toggleable__control:checked~label.sk-toggleable__label {background-color: #d4ebff;}#sk-container-id-3 input.sk-hidden--visually {border: 0;clip: rect(1px 1px 1px 1px);clip: rect(1px, 1px, 1px, 1px);height: 1px;margin: -1px;overflow: hidden;padding: 0;position: absolute;width: 1px;}#sk-container-id-3 div.sk-estimator {font-family: monospace;background-color: #f0f8ff;border: 1px dotted black;border-radius: 0.25em;box-sizing: border-box;margin-bottom: 0.5em;}#sk-container-id-3 div.sk-estimator:hover {background-color: #d4ebff;}#sk-container-id-3 div.sk-parallel-item::after {content: \"\";width: 100%;border-bottom: 1px solid gray;flex-grow: 1;}#sk-container-id-3 div.sk-label:hover label.sk-toggleable__label {background-color: #d4ebff;}#sk-container-id-3 div.sk-serial::before {content: \"\";position: absolute;border-left: 1px solid gray;box-sizing: border-box;top: 0;bottom: 0;left: 50%;z-index: 0;}#sk-container-id-3 div.sk-serial {display: flex;flex-direction: column;align-items: center;background-color: white;padding-right: 0.2em;padding-left: 0.2em;position: relative;}#sk-container-id-3 div.sk-item {position: relative;z-index: 1;}#sk-container-id-3 div.sk-parallel {display: flex;align-items: stretch;justify-content: center;background-color: white;position: relative;}#sk-container-id-3 div.sk-item::before, #sk-container-id-3 div.sk-parallel-item::before {content: \"\";position: absolute;border-left: 1px solid gray;box-sizing: border-box;top: 0;bottom: 0;left: 50%;z-index: -1;}#sk-container-id-3 div.sk-parallel-item {display: flex;flex-direction: column;z-index: 1;position: relative;background-color: white;}#sk-container-id-3 div.sk-parallel-item:first-child::after {align-self: flex-end;width: 50%;}#sk-container-id-3 div.sk-parallel-item:last-child::after {align-self: flex-start;width: 50%;}#sk-container-id-3 div.sk-parallel-item:only-child::after {width: 0;}#sk-container-id-3 div.sk-dashed-wrapped {border: 1px dashed gray;margin: 0 0.4em 0.5em 0.4em;box-sizing: border-box;padding-bottom: 0.4em;background-color: white;}#sk-container-id-3 div.sk-label label {font-family: monospace;font-weight: bold;display: inline-block;line-height: 1.2em;}#sk-container-id-3 div.sk-label-container {text-align: center;}#sk-container-id-3 div.sk-container {/* jupyter's `normalize.less` sets `[hidden] { display: none; }` but bootstrap.min.css set `[hidden] { display: none !important; }` so we also need the `!important` here to be able to override the default hidden behavior on the sphinx rendered scikit-learn.org. See: https://github.com/scikit-learn/scikit-learn/issues/21755 */display: inline-block !important;position: relative;}#sk-container-id-3 div.sk-text-repr-fallback {display: none;}</style><div id=\"sk-container-id-3\" class=\"sk-top-container\"><div class=\"sk-text-repr-fallback\"><pre>Pipeline(steps=[(&#x27;pre&#x27;,\n                 ColumnTransformer(remainder=&#x27;passthrough&#x27;,\n                                   transformers=[(&#x27;encode&#x27;, OneHotEncoder(),\n                                                  [&#x27;Sex&#x27;])])),\n                (&#x27;model&#x27;, LinearRegression())])</pre><b>In a Jupyter environment, please rerun this cell to show the HTML representation or trust the notebook. <br />On GitHub, the HTML representation is unable to render, please try loading this page with nbviewer.org.</b></div><div class=\"sk-container\" hidden><div class=\"sk-item sk-dashed-wrapped\"><div class=\"sk-label-container\"><div class=\"sk-label sk-toggleable\"><input class=\"sk-toggleable__control sk-hidden--visually\" id=\"sk-estimator-id-15\" type=\"checkbox\" ><label for=\"sk-estimator-id-15\" class=\"sk-toggleable__label sk-toggleable__label-arrow\">Pipeline</label><div class=\"sk-toggleable__content\"><pre>Pipeline(steps=[(&#x27;pre&#x27;,\n                 ColumnTransformer(remainder=&#x27;passthrough&#x27;,\n                                   transformers=[(&#x27;encode&#x27;, OneHotEncoder(),\n                                                  [&#x27;Sex&#x27;])])),\n                (&#x27;model&#x27;, LinearRegression())])</pre></div></div></div><div class=\"sk-serial\"><div class=\"sk-item sk-dashed-wrapped\"><div class=\"sk-label-container\"><div class=\"sk-label sk-toggleable\"><input class=\"sk-toggleable__control sk-hidden--visually\" id=\"sk-estimator-id-16\" type=\"checkbox\" ><label for=\"sk-estimator-id-16\" class=\"sk-toggleable__label sk-toggleable__label-arrow\">pre: ColumnTransformer</label><div class=\"sk-toggleable__content\"><pre>ColumnTransformer(remainder=&#x27;passthrough&#x27;,\n                  transformers=[(&#x27;encode&#x27;, OneHotEncoder(), [&#x27;Sex&#x27;])])</pre></div></div></div><div class=\"sk-parallel\"><div class=\"sk-parallel-item\"><div class=\"sk-item\"><div class=\"sk-label-container\"><div class=\"sk-label sk-toggleable\"><input class=\"sk-toggleable__control sk-hidden--visually\" id=\"sk-estimator-id-17\" type=\"checkbox\" ><label for=\"sk-estimator-id-17\" class=\"sk-toggleable__label sk-toggleable__label-arrow\">encode</label><div class=\"sk-toggleable__content\"><pre>[&#x27;Sex&#x27;]</pre></div></div></div><div class=\"sk-serial\"><div class=\"sk-item\"><div class=\"sk-estimator sk-toggleable\"><input class=\"sk-toggleable__control sk-hidden--visually\" id=\"sk-estimator-id-18\" type=\"checkbox\" ><label for=\"sk-estimator-id-18\" class=\"sk-toggleable__label sk-toggleable__label-arrow\">OneHotEncoder</label><div class=\"sk-toggleable__content\"><pre>OneHotEncoder()</pre></div></div></div></div></div></div><div class=\"sk-parallel-item\"><div class=\"sk-item\"><div class=\"sk-label-container\"><div class=\"sk-label sk-toggleable\"><input class=\"sk-toggleable__control sk-hidden--visually\" id=\"sk-estimator-id-19\" type=\"checkbox\" ><label for=\"sk-estimator-id-19\" class=\"sk-toggleable__label sk-toggleable__label-arrow\">remainder</label><div class=\"sk-toggleable__content\"><pre>[&#x27;Length&#x27;, &#x27;Diameter&#x27;, &#x27;Height&#x27;, &#x27;Whole weight&#x27;, &#x27;Shucked weight&#x27;, &#x27;Viscera weight&#x27;, &#x27;Shell weight&#x27;]</pre></div></div></div><div class=\"sk-serial\"><div class=\"sk-item\"><div class=\"sk-estimator sk-toggleable\"><input class=\"sk-toggleable__control sk-hidden--visually\" id=\"sk-estimator-id-20\" type=\"checkbox\" ><label for=\"sk-estimator-id-20\" class=\"sk-toggleable__label sk-toggleable__label-arrow\">passthrough</label><div class=\"sk-toggleable__content\"><pre>passthrough</pre></div></div></div></div></div></div></div></div><div class=\"sk-item\"><div class=\"sk-estimator sk-toggleable\"><input class=\"sk-toggleable__control sk-hidden--visually\" id=\"sk-estimator-id-21\" type=\"checkbox\" ><label for=\"sk-estimator-id-21\" class=\"sk-toggleable__label sk-toggleable__label-arrow\">LinearRegression</label><div class=\"sk-toggleable__content\"><pre>LinearRegression()</pre></div></div></div></div></div></div></div>"
     },
     "execution_count": 33,
     "metadata": {},
     "output_type": "execute_result"
    }
   ],
   "source": [
    "# Part 3\n",
    "from sklearn.linear_model import LinearRegression\n",
    "from sklearn.pipeline import Pipeline\n",
    "from sklearn.compose import ColumnTransformer\n",
    "from sklearn.preprocessing import OneHotEncoder\n",
    "\n",
    "# Initialize your linear regression model\n",
    "problem2_model = Pipeline([\n",
    "    ('pre',ColumnTransformer([\n",
    "        ('encode', OneHotEncoder(), ['Sex'])\n",
    "    ], remainder='passthrough')),\n",
    "    ('model', LinearRegression())\n",
    "])\n",
    "\n",
    "# Train your model on the training data\n",
    "problem2_model.fit(X_train, y_train)"
   ]
  },
  {
   "cell_type": "code",
   "execution_count": 35,
   "id": "bfaf8286",
   "metadata": {
    "deletable": false,
    "lx_assignment_number": "vB",
    "lx_assignment_type": "EXAM",
    "lx_assignment_type2print": "Exam",
    "lx_problem_cell_type": "PROBLEM",
    "lx_problem_number": "2",
    "lx_problem_points": "13",
    "ExecuteTime": {
     "end_time": "2024-01-01T11:36:29.447447Z",
     "start_time": "2024-01-01T11:36:29.441779Z"
    }
   },
   "outputs": [
    {
     "data": {
      "text/plain": "1.5913418856534092"
     },
     "execution_count": 35,
     "metadata": {},
     "output_type": "execute_result"
    }
   ],
   "source": [
    "# Part 4\n",
    "from sklearn.metrics import mean_absolute_error, mean_squared_error\n",
    "\n",
    "# Evaluate the model by computing the mean absolute error \n",
    "problem2_mae = mean_absolute_error(y_test, problem2_model.predict(X_test))\n",
    "problem2_mae"
   ]
  },
  {
   "cell_type": "code",
   "execution_count": 39,
   "id": "f247ee5e",
   "metadata": {
    "deletable": false,
    "lx_assignment_number": "vB",
    "lx_assignment_type": "EXAM",
    "lx_assignment_type2print": "Exam",
    "lx_problem_cell_type": "PROBLEM",
    "lx_problem_number": "2",
    "lx_problem_points": "13",
    "ExecuteTime": {
     "end_time": "2024-01-01T11:44:04.756576Z",
     "start_time": "2024-01-01T11:44:04.667326Z"
    }
   },
   "outputs": [
    {
     "data": {
      "text/plain": "<Figure size 640x480 with 1 Axes>",
      "image/png": "[encoded data removed]"
     },
     "metadata": {},
     "output_type": "display_data"
    }
   ],
   "source": [
    "# Part 4\n",
    "# Write the code to plot the empirical distribution function of the residual\n",
    "# with confidence bands with 95% confidence in this cell\n",
    "\n",
    "from Utils import makeEDF,plotEDF\n",
    "\n",
    "plotEDF(makeEDF(y_test-problem2_model.predict(X_test)), confidence_band=True)"
   ]
  },
  {
   "cell_type": "code",
   "execution_count": 40,
   "id": "ec76a549",
   "metadata": {
    "deletable": false,
    "lx_assignment_number": "vB",
    "lx_assignment_type": "EXAM",
    "lx_assignment_type2print": "Exam",
    "lx_problem_cell_type": "PROBLEM",
    "lx_problem_number": "2",
    "lx_problem_points": "13",
    "ExecuteTime": {
     "end_time": "2024-01-01T11:45:51.472131Z",
     "start_time": "2024-01-01T11:45:50.680864Z"
    }
   },
   "outputs": [
    {
     "data": {
      "text/plain": "<Axes: ylabel='Rings'>"
     },
     "execution_count": 40,
     "metadata": {},
     "output_type": "execute_result"
    },
    {
     "data": {
      "text/plain": "<Figure size 640x480 with 1 Axes>",
      "image/png": "[encoded data removed]"
     },
     "metadata": {},
     "output_type": "display_data"
    }
   ],
   "source": [
    "# Part 5\n",
    "import seaborn as sns\n",
    "sns.scatterplot(x=problem2_model.predict(X_test), y=y_test)\n",
    "# Write the code below to produce the scatter plot for part 5\n"
   ]
  },
  {
   "attachments": {},
   "cell_type": "markdown",
   "id": "a6968726",
   "metadata": {
    "deletable": false,
    "lx_assignment_number": "vB",
    "lx_assignment_type": "EXAM",
    "lx_assignment_type2print": "Exam",
    "lx_problem_cell_type": "PROBLEM",
    "lx_problem_number": "2",
    "lx_problem_points": "13"
   },
   "source": [
    "\n",
    "## Part 6\n",
    "\n",
    "Double click this cell to enter edit mode and write your answer for part 6 below this line.\n",
    "\n",
    "#### Discussion on the value of the MAE\n",
    "the mean absolute error of our holdout data yields a score of ~1.6. This can be interpreted as the expected distance between our predicted age of an abalone\n",
    "and its true age will be off by about 1.6 rings or years. This statistic alone isnt that informative without knowing the distribution of ages that an abalone \n",
    "has. For example, if an abalone only lives for say 3 years on average with a standard deviation of say 1 year then our absolute error is not very good (since the scale of our Y variable and the MAE around \n",
    "our that variable cover way too many values in the distribution). Knowing that the mean age is about ten with a standard deviation of 3, we can feel pretty good about our models MAE. Its value would at the very least predict well inside a single standard deviation of age. Whether that is \"good enough\" depends on the requirement of stakeholder who would be using the model.\n",
    "#### Discussion on the predicted vs. true scatterplot\n",
    "first and foremost it seems that there are two very obvious outliers in the data that seem to have been predicted as negative age (which is impossible). This is a red flag for me also since we didnt do any cleaning or exploratory analysis before fitting our linear model (which is also sensitive to outliers). Moving on though, we can see a funnel effect on our errors (the model's errors are not homogenous). The variance in our errors increases as the predicted age increases meaning any confidence interval we gave for our predictions would also have to take into account heterogeneity in the variance for different predictors ie we can't just slap the same CI around our predicted output and have to account for more variance in the errors as the predicted age increases.\n",
    "#### Discussion\n",
    "overall I would say this model does okay given that we have no project requirements or problem constraints. It's a very simple and interpretable model that gives us a solid prediction of an abalones age without going in and counting the rings by hand. The model generalizability of the model and even its accuracy could be improved by cleaning out some outliers (with proper justification such as mistakes in the data recording process or similar). \n"
   ]
  },
  {
   "cell_type": "markdown",
   "id": "0f81cb13",
   "metadata": {
    "deletable": false,
    "lx_assignment_number": "vB",
    "lx_assignment_type": "EXAM",
    "lx_assignment_type2print": "Exam",
    "lx_problem_cell_type": "PROBLEM",
    "lx_problem_number": "3",
    "lx_problem_points": "13"
   },
   "source": [
    "---\n",
    "## Exam vB, PROBLEM 3\n",
    "Maximum Points = 13"
   ]
  },
  {
   "attachments": {},
   "cell_type": "markdown",
   "id": "748f51f0",
   "metadata": {
    "deletable": false,
    "lx_assignment_number": "vB",
    "lx_assignment_type": "EXAM",
    "lx_assignment_type2print": "Exam",
    "lx_problem_cell_type": "PROBLEM",
    "lx_problem_number": "3",
    "lx_problem_points": "13"
   },
   "source": [
    "\n",
    "A healthcare organization is interested in understanding the relationship between the number of visits to the doctors office and certain patient characteristics. \n",
    "They have collected data on the number of visits for a sample of patients and have included the following variables\n",
    "\n",
    "* ofp : number of physician office visits\n",
    "* ofnp : number of nonphysician office visits\n",
    "* opp : number of physician outpatient visits\n",
    "* opnp : number of nonphysician outpatient visits\n",
    "* emr : number of emergency room visits\n",
    "* hosp : number of hospitalizations\n",
    "* exclhlth : the person is of excellent health (self-perceived)\n",
    "* poorhealth : the person is of poor health (self-perceived)\n",
    "* numchron : number of chronic conditions\n",
    "* adldiff : the person has a condition that limits activities of daily living ?\n",
    "* noreast : the person is from the north east region\n",
    "* midwest : the person is from the midwest region\n",
    "* west : the person is from the west region\n",
    "* age : age in years (divided by 10)\n",
    "* male : is the person male ?\n",
    "* married : is the person married ?\n",
    "* school : number of years of education\n",
    "* faminc : family income in 10000$\n",
    "* employed : is the person employed ?\n",
    "* privins : is the person covered by private health insurance?\n",
    "* medicaid : is the person covered by medicaid ?\n",
    "\n",
    "Decide which patient features are resonable to use to predict the target \"number of physician office visits\". Hint: should we really use the \"ofnp\" etc variables?\n",
    "\n",
    "Since the target variable is counts, a reasonable loss function is to consider the target variable as Poisson distributed where the parameter follows $\\lambda = \\exp(\\alpha \\cdot x + \\beta)$ where $\\alpha$ is a vector (slope) and $\\beta$ is a number (intercept). That is, the parameter is the exponential of a linear function. The reason we chose this as our parameter, is that it is always positive which is when the Poisson distribution is defined. To be specific we make the following assumption about our conditional density of $Y \\mid X$,\n",
    "$$\n",
    "    f_{Y \\mid X} (y,x) = \\frac{\\lambda^{y} e^{-\\lambda}}{y !}, \\quad \\lambda(x) = \\exp(\\alpha \\cdot x + \\beta).\n",
    "$$\n",
    "\n",
    "Recall from the lecture notes, (4.2) that in this case we should consider the log-loss (entropy) and that according to (4.2.1 Maximum Likelihood and regression) we can consider the conditional log-likelihood. Follow the steps of Example 1 and Example 2 in section (4.2) to derive the loss that needs to be minimized.\n",
    "\n",
    "Hint: when taking the log of the conditional density you will find that the term that contains the $y!$ does not depend on $\\lambda$ and as such does not depend on $\\alpha,\\beta$, it can thus be discarded. This will be essential due to numerical issues with factorials.\n",
    "\n",
    "Instructions:\n",
    "\n",
    "1. Load the file `data/visits_clean.csv` into the pandas dataframe `problem3_df`. Decide what should be features and target, give motivations for your choices. [3p]\n",
    "2. Create the `problem3_X` and the `problem3_y` as numpy arrays with `problem3_X` being the features and `problem3_y` being the target. Do the standard train-test split with 80% training data and 20% testing data. Store these in the variables defined in the cells. [3p]\n",
    "3. Implement $loss$ inside the class `PoissonRegression` by writing down the loss to be minimized, I have provided a formula for the $\\lambda$ that you can use. [2p]\n",
    "4. Now use the `PoissonRegression` class to train a Poisson regression model on the training data. [2p]\n",
    "5. Come up with a reasonable metric to evaluate your model on the test data, compute it and write down a justification of this. Also, interpret your result and compare it to something naive. [3p]\n"
   ]
  },
  {
   "cell_type": "code",
   "execution_count": 46,
   "id": "d71cb526",
   "metadata": {
    "deletable": false,
    "lx_assignment_number": "vB",
    "lx_assignment_type": "EXAM",
    "lx_assignment_type2print": "Exam",
    "lx_problem_cell_type": "PROBLEM",
    "lx_problem_number": "3",
    "lx_problem_points": "13",
    "ExecuteTime": {
     "end_time": "2024-01-01T12:24:35.804423Z",
     "start_time": "2024-01-01T12:24:35.785441Z"
    }
   },
   "outputs": [
    {
     "data": {
      "text/plain": "      ofp  ofnp  opp  opnp  emr  hosp  exclhlth  poorhlth  numchron  adldiff  \\\n0       5     0    0     0    0     1         0         0         2        0   \n1       1     0    2     0    2     0         0         0         2        0   \n2      13     0    0     0    3     3         0         1         4        1   \n3      16     0    5     0    1     1         0         1         2        1   \n4       3     0    0     0    0     0         0         0         2        1   \n...   ...   ...  ...   ...  ...   ...       ...       ...       ...      ...   \n4401   11     0    0     0    0     0         0         0         0        0   \n4402   12     0    0     0    0     0         0         0         2        0   \n4403   10     0   20     0    1     1         0         0         5        0   \n4404   16     1    0     0    0     0         0         0         0        0   \n4405    0     0    0     0    0     0         1         0         0        0   \n\n      ...  midwest  west  age  male  married  school    faminc  employed  \\\n0     ...        0     0  6.9     1        1       6  2.881000         1   \n1     ...        0     0  7.4     0        1      10  2.747800         0   \n2     ...        0     0  6.6     0        0      10  0.653200         0   \n3     ...        0     0  7.6     1        1       3  0.658800         0   \n4     ...        0     0  7.9     0        1       6  0.658800         0   \n...   ...      ...   ...  ...   ...      ...     ...       ...       ...   \n4401  ...        0     0  8.4     0        1       8  2.249700         0   \n4402  ...        0     0  7.8     0        0      11  5.813200         0   \n4403  ...        0     0  7.3     1        1      12  3.877916         0   \n4404  ...        0     0  6.6     0        1      12  3.877916         0   \n4405  ...        0     0  7.1     1        1       0  6.596800         1   \n\n      privins  medicaid  \n0           1         0  \n1           1         0  \n2           0         1  \n3           1         0  \n4           1         0  \n...       ...       ...  \n4401        1         0  \n4402        1         0  \n4403        1         0  \n4404        1         0  \n4405        0         0  \n\n[4406 rows x 21 columns]",
      "text/html": "<div>\n<style scoped>\n    .dataframe tbody tr th:only-of-type {\n        vertical-align: middle;\n    }\n\n    .dataframe tbody tr th {\n        vertical-align: top;\n    }\n\n    .dataframe thead th {\n        text-align: right;\n    }\n</style>\n<table border=\"1\" class=\"dataframe\">\n  <thead>\n    <tr style=\"text-align: right;\">\n      <th></th>\n      <th>ofp</th>\n      <th>ofnp</th>\n      <th>opp</th>\n      <th>opnp</th>\n      <th>emr</th>\n      <th>hosp</th>\n      <th>exclhlth</th>\n      <th>poorhlth</th>\n      <th>numchron</th>\n      <th>adldiff</th>\n      <th>...</th>\n      <th>midwest</th>\n      <th>west</th>\n      <th>age</th>\n      <th>male</th>\n      <th>married</th>\n      <th>school</th>\n      <th>faminc</th>\n      <th>employed</th>\n      <th>privins</th>\n      <th>medicaid</th>\n    </tr>\n  </thead>\n  <tbody>\n    <tr>\n      <th>0</th>\n      <td>5</td>\n      <td>0</td>\n      <td>0</td>\n      <td>0</td>\n      <td>0</td>\n      <td>1</td>\n      <td>0</td>\n      <td>0</td>\n      <td>2</td>\n      <td>0</td>\n      <td>...</td>\n      <td>0</td>\n      <td>0</td>\n      <td>6.9</td>\n      <td>1</td>\n      <td>1</td>\n      <td>6</td>\n      <td>2.881000</td>\n      <td>1</td>\n      <td>1</td>\n      <td>0</td>\n    </tr>\n    <tr>\n      <th>1</th>\n      <td>1</td>\n      <td>0</td>\n      <td>2</td>\n      <td>0</td>\n      <td>2</td>\n      <td>0</td>\n      <td>0</td>\n      <td>0</td>\n      <td>2</td>\n      <td>0</td>\n      <td>...</td>\n      <td>0</td>\n      <td>0</td>\n      <td>7.4</td>\n      <td>0</td>\n      <td>1</td>\n      <td>10</td>\n      <td>2.747800</td>\n      <td>0</td>\n      <td>1</td>\n      <td>0</td>\n    </tr>\n    <tr>\n      <th>2</th>\n      <td>13</td>\n      <td>0</td>\n      <td>0</td>\n      <td>0</td>\n      <td>3</td>\n      <td>3</td>\n      <td>0</td>\n      <td>1</td>\n      <td>4</td>\n      <td>1</td>\n      <td>...</td>\n      <td>0</td>\n      <td>0</td>\n      <td>6.6</td>\n      <td>0</td>\n      <td>0</td>\n      <td>10</td>\n      <td>0.653200</td>\n      <td>0</td>\n      <td>0</td>\n      <td>1</td>\n    </tr>\n    <tr>\n      <th>3</th>\n      <td>16</td>\n      <td>0</td>\n      <td>5</td>\n      <td>0</td>\n      <td>1</td>\n      <td>1</td>\n      <td>0</td>\n      <td>1</td>\n      <td>2</td>\n      <td>1</td>\n      <td>...</td>\n      <td>0</td>\n      <td>0</td>\n      <td>7.6</td>\n      <td>1</td>\n      <td>1</td>\n      <td>3</td>\n      <td>0.658800</td>\n      <td>0</td>\n      <td>1</td>\n      <td>0</td>\n    </tr>\n    <tr>\n      <th>4</th>\n      <td>3</td>\n      <td>0</td>\n      <td>0</td>\n      <td>0</td>\n      <td>0</td>\n      <td>0</td>\n      <td>0</td>\n      <td>0</td>\n      <td>2</td>\n      <td>1</td>\n      <td>...</td>\n      <td>0</td>\n      <td>0</td>\n      <td>7.9</td>\n      <td>0</td>\n      <td>1</td>\n      <td>6</td>\n      <td>0.658800</td>\n      <td>0</td>\n      <td>1</td>\n      <td>0</td>\n    </tr>\n    <tr>\n      <th>...</th>\n      <td>...</td>\n      <td>...</td>\n      <td>...</td>\n      <td>...</td>\n      <td>...</td>\n      <td>...</td>\n      <td>...</td>\n      <td>...</td>\n      <td>...</td>\n      <td>...</td>\n      <td>...</td>\n      <td>...</td>\n      <td>...</td>\n      <td>...</td>\n      <td>...</td>\n      <td>...</td>\n      <td>...</td>\n      <td>...</td>\n      <td>...</td>\n      <td>...</td>\n      <td>...</td>\n    </tr>\n    <tr>\n      <th>4401</th>\n      <td>11</td>\n      <td>0</td>\n      <td>0</td>\n      <td>0</td>\n      <td>0</td>\n      <td>0</td>\n      <td>0</td>\n      <td>0</td>\n      <td>0</td>\n      <td>0</td>\n      <td>...</td>\n      <td>0</td>\n      <td>0</td>\n      <td>8.4</td>\n      <td>0</td>\n      <td>1</td>\n      <td>8</td>\n      <td>2.249700</td>\n      <td>0</td>\n      <td>1</td>\n      <td>0</td>\n    </tr>\n    <tr>\n      <th>4402</th>\n      <td>12</td>\n      <td>0</td>\n      <td>0</td>\n      <td>0</td>\n      <td>0</td>\n      <td>0</td>\n      <td>0</td>\n      <td>0</td>\n      <td>2</td>\n      <td>0</td>\n      <td>...</td>\n      <td>0</td>\n      <td>0</td>\n      <td>7.8</td>\n      <td>0</td>\n      <td>0</td>\n      <td>11</td>\n      <td>5.813200</td>\n      <td>0</td>\n      <td>1</td>\n      <td>0</td>\n    </tr>\n    <tr>\n      <th>4403</th>\n      <td>10</td>\n      <td>0</td>\n      <td>20</td>\n      <td>0</td>\n      <td>1</td>\n      <td>1</td>\n      <td>0</td>\n      <td>0</td>\n      <td>5</td>\n      <td>0</td>\n      <td>...</td>\n      <td>0</td>\n      <td>0</td>\n      <td>7.3</td>\n      <td>1</td>\n      <td>1</td>\n      <td>12</td>\n      <td>3.877916</td>\n      <td>0</td>\n      <td>1</td>\n      <td>0</td>\n    </tr>\n    <tr>\n      <th>4404</th>\n      <td>16</td>\n      <td>1</td>\n      <td>0</td>\n      <td>0</td>\n      <td>0</td>\n      <td>0</td>\n      <td>0</td>\n      <td>0</td>\n      <td>0</td>\n      <td>0</td>\n      <td>...</td>\n      <td>0</td>\n      <td>0</td>\n      <td>6.6</td>\n      <td>0</td>\n      <td>1</td>\n      <td>12</td>\n      <td>3.877916</td>\n      <td>0</td>\n      <td>1</td>\n      <td>0</td>\n    </tr>\n    <tr>\n      <th>4405</th>\n      <td>0</td>\n      <td>0</td>\n      <td>0</td>\n      <td>0</td>\n      <td>0</td>\n      <td>0</td>\n      <td>1</td>\n      <td>0</td>\n      <td>0</td>\n      <td>0</td>\n      <td>...</td>\n      <td>0</td>\n      <td>0</td>\n      <td>7.1</td>\n      <td>1</td>\n      <td>1</td>\n      <td>0</td>\n      <td>6.596800</td>\n      <td>1</td>\n      <td>0</td>\n      <td>0</td>\n    </tr>\n  </tbody>\n</table>\n<p>4406 rows × 21 columns</p>\n</div>"
     },
     "execution_count": 46,
     "metadata": {},
     "output_type": "execute_result"
    }
   ],
   "source": [
    "# Part 1\n",
    "\n",
    "# Let problem3_df be the pandas dataframe that contains the data from the file\n",
    "# data/visits_clean.csv\n",
    "problem3_df = pd.read_csv('./data/visits_clean.csv', delimiter=' ')\n",
    "problem3_df\n",
    "data = problem3_df.copy()\n",
    "data"
   ]
  },
  {
   "cell_type": "code",
   "execution_count": 47,
   "id": "e9674f37",
   "metadata": {
    "deletable": false,
    "lx_assignment_number": "vB",
    "lx_assignment_type": "EXAM",
    "lx_assignment_type2print": "Exam",
    "lx_problem_cell_type": "PROBLEM",
    "lx_problem_number": "3",
    "lx_problem_points": "13",
    "ExecuteTime": {
     "end_time": "2024-01-01T12:26:02.701227Z",
     "start_time": "2024-01-01T12:26:02.690775Z"
    }
   },
   "outputs": [
    {
     "data": {
      "text/plain": "Index(['hosp', 'exclhlth', 'poorhlth', 'numchron', 'adldiff', 'noreast',\n       'midwest', 'west', 'age', 'male', 'married', 'school', 'faminc',\n       'employed', 'privins', 'medicaid'],\n      dtype='object')"
     },
     "execution_count": 47,
     "metadata": {},
     "output_type": "execute_result"
    }
   ],
   "source": [
    "# Part 1\n",
    "\n",
    "# Fill in the features as a list of strings of the names of the columns\n",
    "\n",
    "problem3_features = data.drop(['ofp','ofnp', 'opp', 'opnp','emr'], axis=1).columns\n",
    "\n",
    "# Fill in the target as a string with the correct column name\n",
    "\n",
    "problem3_target = 'ofp'\n",
    "problem3_features"
   ]
  },
  {
   "attachments": {},
   "cell_type": "markdown",
   "id": "263a3bee",
   "metadata": {
    "deletable": false,
    "lx_assignment_number": "vB",
    "lx_assignment_type": "EXAM",
    "lx_assignment_type2print": "Exam",
    "lx_problem_cell_type": "PROBLEM",
    "lx_problem_number": "3",
    "lx_problem_points": "13"
   },
   "source": [
    "\n",
    "## Part 1\n",
    "\n",
    "Double click this cell to enter edit mode and write your answer for part 1 below this line.\n",
    "\n",
    "#### What features are reasonable?\n",
    "\n",
    "#### In regards to how much data we have, how many features do you think we should aim for?\n",
    "\n",
    "#### What other features would you like to have used but was not collected?\n",
    "\n",
    "#### Discussion\n"
   ]
  },
  {
   "cell_type": "code",
   "execution_count": 68,
   "id": "0d00cab8",
   "metadata": {
    "deletable": false,
    "lx_assignment_number": "vB",
    "lx_assignment_type": "EXAM",
    "lx_assignment_type2print": "Exam",
    "lx_problem_cell_type": "PROBLEM",
    "lx_problem_number": "3",
    "lx_problem_points": "13",
    "ExecuteTime": {
     "end_time": "2024-01-01T13:21:10.425253Z",
     "start_time": "2024-01-01T13:21:10.415542Z"
    }
   },
   "outputs": [
    {
     "data": {
      "text/plain": "      hosp  exclhlth  poorhlth  numchron  adldiff  noreast  midwest  west  \\\n1854     0         1         0         2        0        1        0     0   \n1548     0         0         0         1        0        0        1     0   \n4137     0         0         0         2        0        0        0     0   \n1629     0         0         0         1        0        1        0     0   \n1255     0         0         0         1        0        0        0     0   \n...    ...       ...       ...       ...      ...      ...      ...   ...   \n1593     0         0         0         0        0        0        1     0   \n4060     0         0         0         2        0        0        1     0   \n1346     3         0         0         1        0        0        0     1   \n3454     2         0         1         2        1        0        0     1   \n3582     0         0         0         3        0        0        0     1   \n\n      age  male  married  school  faminc  employed  privins  medicaid  \n1854  7.8     1        1      18  2.5807         0        1         0  \n1548  7.3     0        1       8  1.7804         0        1         0  \n4137  8.1     0        0       7  1.6212         0        0         1  \n1629  8.0     1        1      12  1.6596         0        1         0  \n1255  8.6     0        0      10  0.4646         0        0         0  \n...   ...   ...      ...     ...     ...       ...      ...       ...  \n1593  7.0     0        0       9  0.9380         0        1         0  \n4060  6.7     1        1      13  4.5860         0        1         0  \n1346  8.0     1        1      14  1.3020         0        1         0  \n3454  9.3     0        0       0  3.5000         0        0         1  \n3582  6.8     1        1       9  1.9808         1        0         0  \n\n[3524 rows x 16 columns]",
      "text/html": "<div>\n<style scoped>\n    .dataframe tbody tr th:only-of-type {\n        vertical-align: middle;\n    }\n\n    .dataframe tbody tr th {\n        vertical-align: top;\n    }\n\n    .dataframe thead th {\n        text-align: right;\n    }\n</style>\n<table border=\"1\" class=\"dataframe\">\n  <thead>\n    <tr style=\"text-align: right;\">\n      <th></th>\n      <th>hosp</th>\n      <th>exclhlth</th>\n      <th>poorhlth</th>\n      <th>numchron</th>\n      <th>adldiff</th>\n      <th>noreast</th>\n      <th>midwest</th>\n      <th>west</th>\n      <th>age</th>\n      <th>male</th>\n      <th>married</th>\n      <th>school</th>\n      <th>faminc</th>\n      <th>employed</th>\n      <th>privins</th>\n      <th>medicaid</th>\n    </tr>\n  </thead>\n  <tbody>\n    <tr>\n      <th>1854</th>\n      <td>0</td>\n      <td>1</td>\n      <td>0</td>\n      <td>2</td>\n      <td>0</td>\n      <td>1</td>\n      <td>0</td>\n      <td>0</td>\n      <td>7.8</td>\n      <td>1</td>\n      <td>1</td>\n      <td>18</td>\n      <td>2.5807</td>\n      <td>0</td>\n      <td>1</td>\n      <td>0</td>\n    </tr>\n    <tr>\n      <th>1548</th>\n      <td>0</td>\n      <td>0</td>\n      <td>0</td>\n      <td>1</td>\n      <td>0</td>\n      <td>0</td>\n      <td>1</td>\n      <td>0</td>\n      <td>7.3</td>\n      <td>0</td>\n      <td>1</td>\n      <td>8</td>\n      <td>1.7804</td>\n      <td>0</td>\n      <td>1</td>\n      <td>0</td>\n    </tr>\n    <tr>\n      <th>4137</th>\n      <td>0</td>\n      <td>0</td>\n      <td>0</td>\n      <td>2</td>\n      <td>0</td>\n      <td>0</td>\n      <td>0</td>\n      <td>0</td>\n      <td>8.1</td>\n      <td>0</td>\n      <td>0</td>\n      <td>7</td>\n      <td>1.6212</td>\n      <td>0</td>\n      <td>0</td>\n      <td>1</td>\n    </tr>\n    <tr>\n      <th>1629</th>\n      <td>0</td>\n      <td>0</td>\n      <td>0</td>\n      <td>1</td>\n      <td>0</td>\n      <td>1</td>\n      <td>0</td>\n      <td>0</td>\n      <td>8.0</td>\n      <td>1</td>\n      <td>1</td>\n      <td>12</td>\n      <td>1.6596</td>\n      <td>0</td>\n      <td>1</td>\n      <td>0</td>\n    </tr>\n    <tr>\n      <th>1255</th>\n      <td>0</td>\n      <td>0</td>\n      <td>0</td>\n      <td>1</td>\n      <td>0</td>\n      <td>0</td>\n      <td>0</td>\n      <td>0</td>\n      <td>8.6</td>\n      <td>0</td>\n      <td>0</td>\n      <td>10</td>\n      <td>0.4646</td>\n      <td>0</td>\n      <td>0</td>\n      <td>0</td>\n    </tr>\n    <tr>\n      <th>...</th>\n      <td>...</td>\n      <td>...</td>\n      <td>...</td>\n      <td>...</td>\n      <td>...</td>\n      <td>...</td>\n      <td>...</td>\n      <td>...</td>\n      <td>...</td>\n      <td>...</td>\n      <td>...</td>\n      <td>...</td>\n      <td>...</td>\n      <td>...</td>\n      <td>...</td>\n      <td>...</td>\n    </tr>\n    <tr>\n      <th>1593</th>\n      <td>0</td>\n      <td>0</td>\n      <td>0</td>\n      <td>0</td>\n      <td>0</td>\n      <td>0</td>\n      <td>1</td>\n      <td>0</td>\n      <td>7.0</td>\n      <td>0</td>\n      <td>0</td>\n      <td>9</td>\n      <td>0.9380</td>\n      <td>0</td>\n      <td>1</td>\n      <td>0</td>\n    </tr>\n    <tr>\n      <th>4060</th>\n      <td>0</td>\n      <td>0</td>\n      <td>0</td>\n      <td>2</td>\n      <td>0</td>\n      <td>0</td>\n      <td>1</td>\n      <td>0</td>\n      <td>6.7</td>\n      <td>1</td>\n      <td>1</td>\n      <td>13</td>\n      <td>4.5860</td>\n      <td>0</td>\n      <td>1</td>\n      <td>0</td>\n    </tr>\n    <tr>\n      <th>1346</th>\n      <td>3</td>\n      <td>0</td>\n      <td>0</td>\n      <td>1</td>\n      <td>0</td>\n      <td>0</td>\n      <td>0</td>\n      <td>1</td>\n      <td>8.0</td>\n      <td>1</td>\n      <td>1</td>\n      <td>14</td>\n      <td>1.3020</td>\n      <td>0</td>\n      <td>1</td>\n      <td>0</td>\n    </tr>\n    <tr>\n      <th>3454</th>\n      <td>2</td>\n      <td>0</td>\n      <td>1</td>\n      <td>2</td>\n      <td>1</td>\n      <td>0</td>\n      <td>0</td>\n      <td>1</td>\n      <td>9.3</td>\n      <td>0</td>\n      <td>0</td>\n      <td>0</td>\n      <td>3.5000</td>\n      <td>0</td>\n      <td>0</td>\n      <td>1</td>\n    </tr>\n    <tr>\n      <th>3582</th>\n      <td>0</td>\n      <td>0</td>\n      <td>0</td>\n      <td>3</td>\n      <td>0</td>\n      <td>0</td>\n      <td>0</td>\n      <td>1</td>\n      <td>6.8</td>\n      <td>1</td>\n      <td>1</td>\n      <td>9</td>\n      <td>1.9808</td>\n      <td>1</td>\n      <td>0</td>\n      <td>0</td>\n    </tr>\n  </tbody>\n</table>\n<p>3524 rows × 16 columns</p>\n</div>"
     },
     "execution_count": 68,
     "metadata": {},
     "output_type": "execute_result"
    }
   ],
   "source": [
    "# Part 2\n",
    "from sklearn.model_selection import train_test_split\n",
    "# Fill in your X and y below\n",
    "problem3_X = data[problem3_features]\n",
    "problem3_y = data[problem3_target]\n",
    "\n",
    "# Split the data into train and test using train_test_split\n",
    "# keep the train size as 0.8 and use random_state=42\n",
    "problem3_X_train, problem3_X_test, problem3_y_train, problem3_y_test = train_test_split(problem3_X, problem3_y, test_size=.2, random_state=123)\n",
    "problem3_X_train"
   ]
  },
  {
   "cell_type": "code",
   "execution_count": 69,
   "id": "68e8c054",
   "metadata": {
    "deletable": false,
    "lx_assignment_number": "vB",
    "lx_assignment_type": "EXAM",
    "lx_assignment_type2print": "Exam",
    "lx_problem_cell_type": "PROBLEM",
    "lx_problem_number": "3",
    "lx_problem_points": "13",
    "ExecuteTime": {
     "end_time": "2024-01-01T13:21:11.246887Z",
     "start_time": "2024-01-01T13:21:11.241664Z"
    }
   },
   "outputs": [],
   "source": [
    "# Part 3\n",
    "\n",
    "# Fill in the function loss below\n",
    "\n",
    "class PoissonRegression(object):\n",
    "    def __init__(self):\n",
    "        self.coeffs = None\n",
    "        self.result = None\n",
    "    \n",
    "    def fit(self,X,Y):\n",
    "        import numpy as np\n",
    "        from scipy import optimize\n",
    "\n",
    "        # define the objective/cost/loss function we want to minimise\n",
    "        def loss(coeffs):\n",
    "            # The parameter lambda for the given X and the proposed values \n",
    "            # of the coefficients, here coeff[:-1] represent alpha \n",
    "            # and coeff[-1] represent beta\n",
    "            lam = np.exp(np.dot(X,coeffs[:-1])+coeffs[-1])\n",
    "            \n",
    "            # use the Y variable that is available here to define \n",
    "            # the loss function, return the value of the loss for \n",
    "            # this Y and for this parameter lam defined above\n",
    "            return np.mean(lam-Y * np.log(lam))\n",
    "\n",
    "        #Use the loss above together with an optimization method from scipy\n",
    "        #to find the coefficients of the model\n",
    "        #this is prepared for you below\n",
    "\n",
    "        initial_arguments = np.zeros(shape=X.shape[1]+1) # initial guess as 0\n",
    "        self.result = optimize.minimize(loss, initial_arguments,method='cg')\n",
    "        self.coeffs = self.result.x\n",
    "    \n",
    "    def predict(self,X):\n",
    "        import numpy as np\n",
    "        #Use the trained model to predict Y\n",
    "        if (self.coeffs is not None):\n",
    "            return np.exp(np.dot(X,self.coeffs[:-1])+self.coeffs[-1])"
   ]
  },
  {
   "cell_type": "code",
   "execution_count": 75,
   "id": "2e713dd9",
   "metadata": {
    "deletable": false,
    "lx_assignment_number": "vB",
    "lx_assignment_type": "EXAM",
    "lx_assignment_type2print": "Exam",
    "lx_problem_cell_type": "PROBLEM",
    "lx_problem_number": "3",
    "lx_problem_points": "13",
    "ExecuteTime": {
     "end_time": "2024-01-01T13:25:02.731793Z",
     "start_time": "2024-01-01T13:24:57.126358Z"
    }
   },
   "outputs": [
    {
     "name": "stdout",
     "output_type": "stream",
     "text": [
      " message: Optimization terminated successfully.\n",
      " success: True\n",
      "  status: 0\n",
      "     fun: -4.758014719269296\n",
      "       x: [ 1.423e-01 -4.349e-01 ...  2.687e-01  1.179e+00]\n",
      "     nit: 563\n",
      "     jac: [ 6.676e-06 -1.192e-07 ...  1.609e-06 -5.424e-06]\n",
      "    nfev: 21510\n",
      "    njev: 1195\n",
      "[ 0.13589984 -0.09809951  0.10396137  0.15327779  0.06327372  0.05545144\n",
      " -0.04862766  0.04143057 -0.02317837 -0.05214342 -0.01897793  0.02901504\n",
      " -0.005047    0.01218799  0.10226407  0.05741047]\n",
      "1.2317498610866453\n"
     ]
    }
   ],
   "source": [
    "# Part 4\n",
    "from sklearn.linear_model import PoissonRegressor\n",
    "# Initialize your PoissonRegression model\n",
    "problem3_model = PoissonRegression()\n",
    "compare_model = PoissonRegressor(max_iter=1000, solver='newton-cholesky')\n",
    "\n",
    "problem3_model.fit(problem3_X_train, problem3_y_train)\n",
    "compare_model.fit(problem3_X_train, problem3_y_train)\n",
    "# Fit your initialized model on the training data\n",
    "\n",
    "\n",
    "# This is to make sure that everything went well, \n",
    "# check that success is True\n",
    "print(problem3_model.result)\n",
    "print(compare_model.coef_)\n",
    "print(compare_model.intercept_)"
   ]
  },
  {
   "cell_type": "code",
   "execution_count": 79,
   "id": "e4036ed4",
   "metadata": {
    "deletable": false,
    "lx_assignment_number": "vB",
    "lx_assignment_type": "EXAM",
    "lx_assignment_type2print": "Exam",
    "lx_problem_cell_type": "PROBLEM",
    "lx_problem_number": "3",
    "lx_problem_points": "13",
    "ExecuteTime": {
     "end_time": "2024-01-01T13:28:27.584547Z",
     "start_time": "2024-01-01T13:28:27.490740Z"
    }
   },
   "outputs": [
    {
     "name": "stdout",
     "output_type": "stream",
     "text": [
      "p3 MAE = 4.169960736150326, sklearns = 4.189333428423023\n",
      "(2.731944669415504, 5.607976802885148)\n"
     ]
    }
   ],
   "source": [
    "# Part 5\n",
    "from Utils import compute_confidence_interval_bounded\n",
    "import numpy as np\n",
    "from sklearn.metrics import mean_absolute_error\n",
    "# Put the computed metric value in the variable below\n",
    "problem3_metric = mean_absolute_error(problem3_y_test, problem3_model.predict(problem3_X_test))\n",
    "print(f'p3 MAE = {problem3_metric}, sklearns = {mean_absolute_error(problem3_y_test,compare_model.predict(problem3_X_test))}')\n",
    "print(compute_confidence_interval_bounded(np.abs(problem3_y_test-problem3_model.predict(problem3_X_test)),.95, min_value=0, max_value=70))"
   ]
  },
  {
   "attachments": {},
   "cell_type": "markdown",
   "id": "9efd042d",
   "metadata": {
    "deletable": false,
    "lx_assignment_number": "vB",
    "lx_assignment_type": "EXAM",
    "lx_assignment_type2print": "Exam",
    "lx_problem_cell_type": "PROBLEM",
    "lx_problem_number": "3",
    "lx_problem_points": "13"
   },
   "source": [
    "\n",
    "## Part 5\n",
    "\n",
    "Double click this cell to enter edit mode and write your answer for part 5 below this line.\n",
    "\n",
    "#### Discussion on reasonable metrics and discussion about the value of the metric\n",
    "\n",
    "#### Comparison with a naive model\n"
   ]
  }
 ],
 "metadata": {
  "lx_assignment_number": "vB",
  "lx_course_instance": "2022",
  "lx_course_name": "Introduction to Data Science",
  "lx_course_number": "1MS041",
  "kernelspec": {
   "name": "python3",
   "language": "python",
   "display_name": "Python 3 (ipykernel)"
  }
 },
 "nbformat": 4,
 "nbformat_minor": 5
}
