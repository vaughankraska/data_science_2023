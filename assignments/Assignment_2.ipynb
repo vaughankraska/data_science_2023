{
 "cells": [
  {
   "cell_type": "markdown",
   "metadata": {
    "deletable": false
   },
   "source": [
    "# Assignment 2 for Course 1MS041\n",
    "Make         sure you pass the `# ... Test` cells and\n",
    " submit your solution notebook in the corresponding assignment on the course website. You can submit multiple times before the deadline         and your highest score will be used."
   ]
  },
  {
   "cell_type": "markdown",
   "metadata": {
    "deletable": false,
    "lx_assignment_number": "2",
    "lx_assignment_type": "ASSIGNMENT",
    "lx_assignment_type2print": "Assignment",
    "lx_problem_cell_type": "PROBLEM",
    "lx_problem_number": "1",
    "lx_problem_points": "8"
   },
   "source": [
    "---\n",
    "## Assignment 2, PROBLEM 1\n",
    "Maximum Points = 8"
   ]
  },
  {
   "cell_type": "markdown",
   "metadata": {
    "deletable": false,
    "lx_assignment_number": "2",
    "lx_assignment_type": "ASSIGNMENT",
    "lx_assignment_type2print": "Assignment",
    "lx_problem_cell_type": "PROBLEM",
    "lx_problem_number": "1",
    "lx_problem_points": "8"
   },
   "source": [
    "\n",
    "A courier company operates a fleet of delivery trucks that make deliveries to different parts of the city. The trucks are equipped with GPS tracking devices that record the location of each truck at regular intervals. The locations are divided into three regions: downtown, the suburbs, and the countryside. The following table shows the probabilities of a truck transitioning between these regions at each time step:\n",
    "\n",
    "| Current region | Probability of transitioning to downtown | Probability of transitioning to the suburbs | Probability of transitioning to the countryside |\n",
    "|----------------|--------------------------------------------|-----------------------------------------------|------------------------------------------------|\n",
    "| Downtown       | 0.3                                      | 0.4                                           | 0.3                                            |\n",
    "| Suburbs        | 0.2                                      | 0.5                                           | 0.3                                            |\n",
    "| Countryside    | 0.4                                      | 0.3                                           | 0.3                                            |\n",
    "\n",
    "1. If a truck is currently in the suburbs, what is the probability that it will be in the downtown region after two time steps? [1.5p]\n",
    "2. If a truck is currently in the suburbs, what is the probability that it will be in the downtown region **the first time** after two time steps? [1.5p]\n",
    "3. Is this Markov chain irreducible? [1.5p]\n",
    "4. What is the stationary distribution? [1.5p]\n",
    "5. Advanced question: What is the expected number of steps until the first time one enters the downtown region having started in the suburbs region. Hint: to get within 1 decimal point, it is enough to compute the probabilities for hitting times below 30. [2p]\n",
    "\n"
   ]
  },
  {
   "cell_type": "code",
   "execution_count": 16,
   "metadata": {
    "deletable": false,
    "lx_assignment_number": "2",
    "lx_assignment_type": "ASSIGNMENT",
    "lx_assignment_type2print": "Assignment",
    "lx_problem_cell_type": "PROBLEM",
    "lx_problem_number": "1",
    "lx_problem_points": "14",
    "ExecuteTime": {
     "end_time": "2023-11-10T21:52:01.978888Z",
     "start_time": "2023-11-10T21:52:01.934646Z"
    }
   },
   "outputs": [],
   "source": [
    "# Part 1\n",
    "import numpy as np\n",
    "M_markov = np.array([\n",
    "    [.3,.4,.3],\n",
    "    [.2,.5,.3],\n",
    "    [.4,.3,.3]\n",
    "])\n",
    "def step_probs(P, V0, n):\n",
    "    v_i = np.array(V0)\n",
    "    for i in range(n):\n",
    "        v_i = np.dot(v_i,P)\n",
    "    return v_i\n",
    "\n",
    "\n",
    "M_two_steps = step_probs(M_markov,[0,1,0],2)\n",
    "# Fill in the answer to part 1 below as a decimal number\n",
    "problem1_p1 = .28"
   ]
  },
  {
   "cell_type": "code",
   "execution_count": 17,
   "metadata": {
    "deletable": false,
    "lx_assignment_number": "2",
    "lx_assignment_type": "ASSIGNMENT",
    "lx_assignment_type2print": "Assignment",
    "lx_problem_cell_type": "PROBLEM",
    "lx_problem_number": "1",
    "lx_problem_points": "14",
    "ExecuteTime": {
     "end_time": "2023-11-10T21:52:03.367685Z",
     "start_time": "2023-11-10T21:52:03.064307Z"
    }
   },
   "outputs": [
    {
     "name": "stdout",
     "output_type": "stream",
     "text": [
      "0.2197\n"
     ]
    }
   ],
   "source": [
    "# Part 2\n",
    "import random\n",
    "def markov_step(P, current_pos):\n",
    "    options = [i for i in range(len(M_markov))]\n",
    "    weights = P[current_pos,:]\n",
    "    next_pos = random.choices(options,weights, k=1)\n",
    "    return next_pos[0]\n",
    "\n",
    "def random_walk(break_condition, P, initial_pos):\n",
    "    steps = 0\n",
    "    current_pos = initial_pos\n",
    "    while not break_condition(current_pos, steps):\n",
    "        steps += 1\n",
    "        current_pos = markov_step(P, current_pos)\n",
    "    return [steps, current_pos]\n",
    "####################\n",
    "myBreak = lambda pos, steps: pos == 0 or steps == 2\n",
    "n_simulations = 100000\n",
    "temp = []\n",
    "for i in range(n_simulations):\n",
    "    x = random_walk(myBreak,M_markov, 1)\n",
    "    temp.append(x)\n",
    "\n",
    "print(len([x for x in temp if x[0] == 2 and x[1] == 0])/n_simulations) #if num steps = 2 and current pos = 0\n",
    "\n",
    "# Fill in the answer to part 2 below as a decimal number\n",
    "problem1_p2 = .22"
   ]
  },
  {
   "cell_type": "code",
   "execution_count": 18,
   "metadata": {
    "deletable": false,
    "lx_assignment_number": "2",
    "lx_assignment_type": "ASSIGNMENT",
    "lx_assignment_type2print": "Assignment",
    "lx_problem_cell_type": "PROBLEM",
    "lx_problem_number": "1",
    "lx_problem_points": "14",
    "ExecuteTime": {
     "end_time": "2023-11-10T21:52:04.318275Z",
     "start_time": "2023-11-10T21:52:04.310552Z"
    }
   },
   "outputs": [],
   "source": [
    "# Part 3\n",
    "M_converge = M_markov.copy()\n",
    "delta = 1\n",
    "count = 1\n",
    "while delta > .000001:\n",
    "    count+=1\n",
    "    pre = np.trace(M_converge)\n",
    "    M_converge = np.matmul(M_converge,M_markov)\n",
    "    post = np.trace(M_converge)\n",
    "    delta = abs(pre-post)\n",
    "# Fill in the answer to part 3 below as a boolean\n",
    "problem1_irreducible = True"
   ]
  },
  {
   "cell_type": "code",
   "execution_count": 19,
   "metadata": {
    "deletable": false,
    "lx_assignment_number": "2",
    "lx_assignment_type": "ASSIGNMENT",
    "lx_assignment_type2print": "Assignment",
    "lx_problem_cell_type": "PROBLEM",
    "lx_problem_number": "1",
    "lx_problem_points": "14",
    "ExecuteTime": {
     "end_time": "2023-11-10T21:52:05.448117Z",
     "start_time": "2023-11-10T21:52:05.440087Z"
    }
   },
   "outputs": [
    {
     "name": "stdout",
     "output_type": "stream",
     "text": [
      "[0.2888889 0.4111111 0.3      ]\n"
     ]
    }
   ],
   "source": [
    "# Part 4\n",
    "print(M_converge[0,:])\n",
    "# Fill in the answer to part 4 below\n",
    "# the answer should be a numpy array of length 3\n",
    "# make sure that the entries sums to 1!\n",
    "problem1_stationary = M_converge[0,:]"
   ]
  },
  {
   "cell_type": "code",
   "execution_count": 20,
   "metadata": {
    "deletable": false,
    "lx_assignment_number": "2",
    "lx_assignment_type": "ASSIGNMENT",
    "lx_assignment_type2print": "Assignment",
    "lx_problem_cell_type": "PROBLEM",
    "lx_problem_number": "1",
    "lx_problem_points": "14",
    "ExecuteTime": {
     "end_time": "2023-11-10T21:52:12.496580Z",
     "start_time": "2023-11-10T21:52:07.182178Z"
    }
   },
   "outputs": [
    {
     "name": "stdout",
     "output_type": "stream",
     "text": [
      "3.848645\n"
     ]
    }
   ],
   "source": [
    "# Part 5\n",
    "# 3.846 (answer)\n",
    "n_simulations = 1000000\n",
    "myBreak = lambda pos, steps: pos == 0\n",
    "temp = []\n",
    "for i in range(n_simulations):\n",
    "    n_steps = random_walk(myBreak,M_markov, 1)[0]\n",
    "    temp.append(n_steps)\n",
    "print(np.average(temp))\n",
    "    \n",
    "# Fill in the answer to part 5 below\n",
    "# That is, the expected number of steps as a decimal number\n",
    "problem1_ET = 3.846"
   ]
  },
  {
   "cell_type": "markdown",
   "metadata": {
    "deletable": false,
    "lx_assignment_number": "2",
    "lx_assignment_type": "ASSIGNMENT",
    "lx_assignment_type2print": "Assignment",
    "lx_problem_cell_type": "PROBLEM",
    "lx_problem_number": "2",
    "lx_problem_points": "8"
   },
   "source": [
    "---\n",
    "## Assignment 2, PROBLEM 2\n",
    "Maximum Points = 8"
   ]
  },
  {
   "cell_type": "markdown",
   "metadata": {
    "deletable": false,
    "lx_assignment_number": "2",
    "lx_assignment_type": "ASSIGNMENT",
    "lx_assignment_type2print": "Assignment",
    "lx_problem_cell_type": "PROBLEM",
    "lx_problem_number": "2",
    "lx_problem_points": "8"
   },
   "source": [
    "\n",
    "A healthcare organization is interested in understanding the relationship between the number of visits to the doctors office and certain patient characteristics. \n",
    "They have collected data on the number of visits (for a year) for a sample of patients and have included the following variables\n",
    "\n",
    "* ofp : number of physician office visits\n",
    "* ofnp : number of nonphysician office visits\n",
    "* opp : number of physician outpatient visits\n",
    "* opnp : number of nonphysician outpatient visits\n",
    "* emr : number of emergency room visits\n",
    "* hosp : number of hospitalizations\n",
    "* exclhlth : the person is of excellent health (self-perceived)\n",
    "* poorhealth : the person is of poor health (self-perceived)\n",
    "* numchron : number of chronic conditions\n",
    "* adldiff : the person has a condition that limits activities of daily living ?\n",
    "* noreast : the person is from the north east region\n",
    "* midwest : the person is from the midwest region\n",
    "* west : the person is from the west region\n",
    "* age : age in years (divided by 10)\n",
    "* male : is the person male ?\n",
    "* married : is the person married ?\n",
    "* school : number of years of education\n",
    "* faminc : family income in 10000$\n",
    "* employed : is the person employed ?\n",
    "* privins : is the person covered by private health insurance?\n",
    "* medicaid : is the person covered by medicaid ?\n",
    "\n",
    "Decide which patient features are resonable to use to predict the target \"number of physician office visits\". Hint: should we really use the \"ofnp\" etc variables?\n",
    "\n",
    "Since the target variable is counts, a reasonable loss function is to consider the target variable as Poisson distributed where the parameter follows $\\lambda = \\exp(\\alpha \\cdot x + \\beta)$ where $\\alpha$ is a vector (slope) and $\\beta$ is a number (intercept). That is, the parameter is the exponential of a linear function. The reason we chose this as our parameter, is that it is always positive which is when the Poisson distribution is defined. To be specific we make the following assumption about our conditional density of $Y \\mid X$,\n",
    "$$\n",
    "    f_{Y \\mid X} (y,x) = \\frac{\\lambda^{y} e^{-\\lambda}}{y !}, \\quad \\lambda(x) = \\exp(\\alpha \\cdot x + \\beta).\n",
    "$$\n",
    "\n",
    "Recall from the lecture notes, (4.2) that in this case we should consider the log-loss (entropy) and that according to (4.2.1 Maximum Likelihood and regression) we can consider the conditional log-likelihood. Follow the steps of Example 1 and Example 2 in section (4.2) to derive the loss that needs to be minimized.\n",
    "\n",
    "Hint: when taking the log of the conditional density you will find that the term that contains the $y!$ does not depend on $\\lambda$ and as such does not depend on $\\alpha,\\beta$, it can thus be discarded. This will be essential due to numerical issues with factorials.\n",
    "\n",
    "Instructions:\n",
    "\n",
    "1. Load the file `data/visits_clean.csv`, follow the instructions in the code cell of how this should happen [1.5p]\n",
    "2. Create the `problem2_X` and the `problem2_y` as numpy arrays with `problem2_X` being the features and `problem2_y` being the target. Do the standard train-test split with 80% training data and 20% testing data. Store these in the variables defined in the cells. [1.5p]\n",
    "3. Implement $loss$ inside the class `PoissonRegression` by writing down the loss to be minimized, I have provided a formula for the $\\lambda$ that you can use. [1.5p]\n",
    "4. Now use the `PoissonRegression` class to train a Poisson regression model on the training data. [1.5p]\n",
    "5. Compute the mean absolute error of your prediction on the test set and use Hoeffdings inequality to produce a 95\\% confidence interval for the mean absolute error. We can make the assumption that the error is bounded by 70 for simplicity. [2p]\n"
   ]
  },
  {
   "cell_type": "code",
   "execution_count": 21,
   "metadata": {
    "deletable": false,
    "lx_assignment_number": "2",
    "lx_assignment_type": "ASSIGNMENT",
    "lx_assignment_type2print": "Assignment",
    "lx_problem_cell_type": "PROBLEM",
    "lx_problem_number": "2",
    "lx_problem_points": "8",
    "ExecuteTime": {
     "end_time": "2023-11-10T21:52:18.702485Z",
     "start_time": "2023-11-10T21:52:18.683693Z"
    }
   },
   "outputs": [
    {
     "name": "stdout",
     "output_type": "stream",
     "text": [
      "[5.    0.    0.    0.    0.    1.    0.    0.    2.    0.    0.    0.\n",
      " 0.    6.9   1.    1.    6.    2.881 1.    1.    0.   ]\n"
     ]
    }
   ],
   "source": [
    "# Part 1\n",
    "import csv\n",
    "import numpy as np\n",
    "data_raw = []\n",
    "header = None\n",
    "with open(\"data/visits clean.csv\",mode=\"r\") as f:\n",
    "    header = f.readline().rsplit()\n",
    "    current_pos = f.tell()\n",
    "    current_line = f.readline()\n",
    "    while (current_line[0] == '#'):\n",
    "        current_pos = f.tell()\n",
    "        current_line = f.readline()\n",
    "    f.seek(current_pos)\n",
    "    csv_reader = csv.reader(f,delimiter=' ',skipinitialspace=True)\n",
    "    for line in csv_reader:\n",
    "        data_raw.append(np.array(line, dtype=float))\n",
    "print(data_raw[0])\n",
    "# As in assignment 1 we will load the header into header and data into data\n",
    "# this time you will have to parse the data such that each data entry is a float\n",
    "# and that the problem2_data is a numpy array of shape (n_samples,n_columns)\n",
    "# where n_columns is the number of columns and should have the same length as\n",
    "# the list of strings header. n_samples is how many rows of data we had.\n",
    "# If you cannot find the file, check the starting package as it should be updated\n",
    "# if not, go to the github repo and pull it\n",
    "\n",
    "# The autograder does not accept pandas as a solution to this problem.\n",
    "# data/visits_clean.csv\n",
    "problem2_header = ['ofp', 'ofnp', 'opp', 'opnp', 'emr', 'hosp', 'exclhlth', 'poorhlth', 'numchron', 'adldiff', 'noreast', 'midwest', 'west', 'age', 'male', 'married', 'school', 'faminc', 'employed', 'privins', 'medicaid'] #List of strings\n",
    "problem2_data = np.array(data_raw) #A numpy array of shape n_samples n_columns"
   ]
  },
  {
   "cell_type": "code",
   "execution_count": 22,
   "metadata": {
    "deletable": false,
    "lx_assignment_number": "2",
    "lx_assignment_type": "ASSIGNMENT",
    "lx_assignment_type2print": "Assignment",
    "lx_problem_cell_type": "PROBLEM",
    "lx_problem_number": "2",
    "lx_problem_points": "8",
    "ExecuteTime": {
     "end_time": "2023-11-10T21:52:19.950209Z",
     "start_time": "2023-11-10T21:52:19.943121Z"
    }
   },
   "outputs": [
    {
     "name": "stdout",
     "output_type": "stream",
     "text": [
      "y dim (4406,), x_all dim (4406, 20), OG raw dim (4406, 21), all headers dim 21\n",
      " all headers: ['ofnp' 'opp' 'opnp' 'emr' 'hosp' 'exclhlth' 'poorhlth' 'numchron'\n",
      " 'adldiff' 'noreast' 'midwest' 'west' 'age' 'male' 'married' 'school'\n",
      " 'faminc' 'employed' 'privins' 'medicaid']\n",
      " selected vars = ['hosp', 'exclhlth', 'numchron', 'privins']\n",
      "corr selected = [[ 1.         -0.07663095  0.23352422 -0.01056898]\n",
      " [-0.07663095  1.         -0.17067735  0.03391507]\n",
      " [ 0.23352422 -0.17067735  1.         -0.04405851]\n",
      " [-0.01056898  0.03391507 -0.04405851  1.        ]]\n",
      "x_train dim (3525, 4), x_test dim (881, 4), y_train dim (3525,), y_test dim (881,)\n"
     ]
    }
   ],
   "source": [
    "from sklearn.model_selection import train_test_split\n",
    "# Part 2\n",
    "# print(f'headers length is width of matrix: {len(problem2_data[0]) == len(problem2_header)}')\n",
    "# y_ofp = problem2_data[:,0]\n",
    "# x_all = problem2_data[:,1:]\n",
    "# print(x_all[0])\n",
    "# Fill in your X and y below\n",
    "y = problem2_data[:,0]\n",
    "x_all = problem2_data[:,1:]\n",
    "print(f'y dim {y.shape}, x_all dim {x_all.shape}, OG raw dim {problem2_data.shape}, all headers dim {len(problem2_header)}')\n",
    "x_headers = np.array(problem2_header[1:])\n",
    "print(f' all headers: {x_headers}')\n",
    "selected_vars = ['hosp', 'exclhlth', 'poorhlth', 'numchron',\n",
    "                 'noreast', 'midwest', 'west', 'age', \n",
    "                 'male', 'school', 'employed',\n",
    "                 'privins','medicaid']\n",
    "indices = np.where(np.isin(x_headers, selected_vars))[0]\n",
    "x_filtered = x_all[:,indices]\n",
    "# keep the train size as 0.8 rounded up to the nearest integer sample\n",
    "\n",
    "problem2_X_train, problem2_X_test, problem2_y_train, problem2_y_test = train_test_split(x_filtered, y, test_size=.1999, random_state=101)\n",
    "print(f'x_train dim {problem2_X_train.shape}, x_test dim {problem2_X_test.shape}, y_train dim {problem2_y_train.shape}, y_test dim {problem2_y_test.shape}')\n",
    "print(y)"
   ]
  },
  {
   "cell_type": "code",
   "execution_count": 23,
   "metadata": {
    "deletable": false,
    "lx_assignment_number": "2",
    "lx_assignment_type": "ASSIGNMENT",
    "lx_assignment_type2print": "Assignment",
    "lx_problem_cell_type": "PROBLEM",
    "lx_problem_number": "2",
    "lx_problem_points": "8",
    "ExecuteTime": {
     "end_time": "2023-11-10T21:52:35.295742Z",
     "start_time": "2023-11-10T21:52:35.288223Z"
    }
   },
   "outputs": [],
   "source": [
    "# Part 3\n",
    "\n",
    "# Fill in the function loss below\n",
    "\n",
    "class PoissonRegression(object):\n",
    "    def __init__(self):\n",
    "        self.coeffs = None\n",
    "        self.result = None\n",
    "    \n",
    "    # define the objective/cost/loss function we want to minimise\n",
    "    def loss(self,X,Y,coeffs):\n",
    "        # The parameter lambda for the given X and the proposed values \n",
    "        # of the coefficients, here coeff[:-1] represent alpha \n",
    "        # and coeff[-1] represent beta\n",
    "        lam = np.exp(np.dot(X,coeffs[:-1])+coeffs[-1])\n",
    "        \n",
    "        # use the Y variable that is available here to define \n",
    "        # the loss function, return the value of the loss for \n",
    "        # this Y and for this parameter lam defined above\n",
    "        # l = np.average(-(lam**Y)*np.exp(-lam))\n",
    "        l = np.average(lam - Y * np.log(lam))\n",
    "        return l\n",
    "\n",
    "    def fit(self,X,Y):\n",
    "        import numpy as np\n",
    "        from scipy import optimize\n",
    "\n",
    "        #Use the loss above together with an optimization method from scipy\n",
    "        #to find the coefficients of the model\n",
    "        #this is prepared for you below\n",
    "        opt_loss = lambda coeffs: self.loss(X,Y,coeffs)\n",
    "        initial_arguments = np.zeros(shape=X.shape[1]+1) # initial guess as 0\n",
    "        self.result = optimize.minimize(opt_loss, initial_arguments,method='cg')\n",
    "        self.coeffs = self.result.x\n",
    "    \n",
    "    def predict(self,X):\n",
    "        #Use the trained model to predict Y\n",
    "        if (self.coeffs is not None):\n",
    "            return np.exp(np.dot(X,self.coeffs[:-1])+self.coeffs[-1])"
   ]
  },
  {
   "cell_type": "code",
   "execution_count": 24,
   "metadata": {
    "deletable": false,
    "lx_assignment_number": "2",
    "lx_assignment_type": "ASSIGNMENT",
    "lx_assignment_type2print": "Assignment",
    "lx_problem_cell_type": "PROBLEM",
    "lx_problem_number": "2",
    "lx_problem_points": "8",
    "ExecuteTime": {
     "end_time": "2023-11-10T21:52:36.476236Z",
     "start_time": "2023-11-10T21:52:36.414233Z"
    }
   },
   "outputs": [
    {
     "name": "stdout",
     "output_type": "stream",
     "text": [
      " message: Optimization terminated successfully.\n",
      " success: True\n",
      "  status: 0\n",
      "     fun: -4.732206155829733\n",
      "       x: [ 1.605e-01 -3.204e-01  1.669e-01  2.675e-01  1.209e+00]\n",
      "     nit: 48\n",
      "     jac: [-5.066e-06 -8.285e-06 -9.298e-06 -7.868e-06  1.550e-06]\n",
      "    nfev: 540\n",
      "    njev: 90\n"
     ]
    }
   ],
   "source": [
    "# Part 4\n",
    "###########################\n",
    "# def compare_models():\n",
    "#     from sklearn.linear_model import PoissonRegressor\n",
    "#     n_test = len(problem2_y_test)\n",
    "#     \n",
    "#     poisson = PoissonRegressor(alpha=.001, max_iter=1000)\n",
    "#     poisson.fit(problem2_X_train,problem2_y_train)\n",
    "#     sk_c = np.array(poisson.coef_)\n",
    "#     sk_c = np.append(sk_c, poisson.intercept_)\n",
    "#     p_r2 = poisson.score(problem2_X_test,problem2_y_test)\n",
    "#     sk_errors = poisson.predict(problem2_X_test) - problem2_y_test\n",
    "#     home_made = 1 - sum(sk_errors ** 2) / sum((problem2_y_test - np.average(problem2_y_test)) ** 2)\n",
    "#     p_mae = np.average(sk_errors)\n",
    "#     #boostrap CIs for betas\n",
    "#     bootstrap_coeffs = []\n",
    "#     for b in range(1000):\n",
    "#         sample_indexes = np.random.choice(len(problem2_y_train), len(problem2_y_train),replace=True)\n",
    "#         sampled_x = problem2_X_train[sample_indexes]\n",
    "#         sampled_y = problem2_y_train[sample_indexes]\n",
    "#         temp_poisson = PoissonRegressor(alpha=.001, max_iter=1000)\n",
    "#         temp_poisson.fit(sampled_x,sampled_y)\n",
    "#         temp_coef = np.array(temp_poisson.coef_)\n",
    "#         temp_coef = np.append(temp_coef, temp_poisson.intercept_)\n",
    "#         bootstrap_coeffs.append(temp_coef)\n",
    "#     bootstrap_coeffs = np.array(bootstrap_coeffs)\n",
    "#     lower_ci = np.quantile(bootstrap_coeffs,.05, axis=0)\n",
    "#     upper_ci = np.quantile(bootstrap_coeffs,.95, axis=0)\n",
    "#     CIS = list(zip(lower_ci, sk_c, upper_ci, [*selected_vars, 'B_0']))\n",
    "#     print(CIS) \n",
    "#     \n",
    "#     #our model\n",
    "#     my_poisson = PoissonRegression()\n",
    "#     my_poisson.fit(problem2_X_train,problem2_y_train)\n",
    "#     my_c = my_poisson.coeffs\n",
    "#     my_errors = my_poisson.predict(problem2_X_test) - problem2_y_test\n",
    "#     my_r2 = 1 - sum(my_errors ** 2) / sum((problem2_y_test - np.average(problem2_y_test)) ** 2)\n",
    "#     my_mae = np.average(my_errors)\n",
    "# \n",
    "#     print('########-compare models-#########')\n",
    "#     print('coefficients')\n",
    "#     print(f'\\t coeff difference (sk-mine) = {sk_c - my_c}')\n",
    "#     print(f'\\t avg c difference = {np.average(sk_c - my_c)}')\n",
    "#     print(f'R Squared')\n",
    "#     print(f'\\t sk R2 = {p_r2}, home_made = {home_made}')\n",
    "#     print(f'\\t my R2 = {my_r2}')\n",
    "#     print(f'diff, skR2-myR2 = {p_r2 - my_r2}')\n",
    "#     print('Mean error')\n",
    "#     print(f'\\t sk ME = {p_mae}')\n",
    "#     print(f'\\t my ME = {my_mae}')\n",
    "#     print('boostrap CIs')\n",
    "#     for c in CIS:\n",
    "#         print(f'\\t {c}')\n",
    "#     # boostrap CIs for 1000 iterations\n",
    "#     # (-0.051981132263361325, -0.01188186660887246, 0.03667009327452677, 'emr')[0.94846784 0.98818844 1.03224116] removed\n",
    "#     # (0.12152020545308574, 0.15500814721631045, 0.19720710790772802, 'hosp')[1.12996944 1.16766747 1.21573073]\n",
    "#     # (-0.45518726132139664, -0.32118245603931134, -0.18143519775248418, 'exclhlth')[0.63061502 0.72529091 0.8449146 ]\n",
    "#     # (0.1608762138099832, 0.25842741958909937, 0.35916482596724353, 'poorhlth')[1.17252883 1.29489216 1.43700107]\n",
    "#     # (0.12527556836198162, 0.1483924739457269, 0.17080865073074117, 'numchron')[1.1329389  1.15996806 1.18792973]\n",
    "#     # (-0.08101503631226298, 0.019963466247867247, 0.11551352952514875, 'adldiff')[0.92640304 1.02016407 1.12084281] removed\n",
    "#     # (0.02571817997757781, 0.11480374633158225, 0.1995804495068658, 'noreast')[1.0247743  1.12165329 1.23441386]\n",
    "#     # (-0.11721226711690297, -0.040140292974903236, 0.03514446013828946, 'midwest')[0.88593656 0.96065466 1.0324871 ]\n",
    "#     # (0.029610375752088903, 0.11708153164600026, 0.20255553342817145, 'west')[1.03440652 1.12421108 1.22281705]\n",
    "#     # (-0.0981641691240655, -0.048185268805641855, -0.0014238436335303995, 'age')[0.9058648  0.95295722 1.0065172 ]\n",
    "#     # (-0.14648100477486536, -0.07741694901904034, -0.0036361845262724993, 'male')[0.86203456 0.92550389 0.98846508]\n",
    "#     # (-0.11875108725078953, -0.048202529142308485, 0.023518454350398482, 'married')[0.88830061 0.95294077 1.02988576] removed\n",
    "#     # (0.019410316004985224, 0.030329267410029875, 0.04027739092749005, 'school')[1.02107351 1.03079388 1.04124047]\n",
    "#     # (-0.01810280992330458, -0.005840786864778757, 0.004467678840538555, 'faminc')[0.98179777 0.99417624 1.0039432 ] removed\n",
    "#     # (-0.08155808270884925, 0.042581257686671904, 0.17483105969884236, 'employed')[0.92095277 1.04350085 1.17790462]\n",
    "#     # (0.24496624155563745, 0.333971287787868, 0.4286871175177293, 'privins')[1.27642779 1.39650305 1.52724869]\n",
    "#     # (0.16427609343242555, 0.27858764059206537, 0.39128309225122737, 'medicaid')[1.17352068 1.3212624  1.47204255]\n",
    "#     # (0.8248582094848533, 1.1923625817317618, 1.5716228075061625, 'B_0')[2.19738199 3.29485639 4.86279074]\n",
    "#     print('#########-END-########')\n",
    "# \n",
    "#     return CIS\n",
    "# poisson_sk = compare_models()\n",
    "#############################\n",
    "# Initialize your PoissonRegression model\n",
    "problem2_model = PoissonRegression()\n",
    "\n",
    "# Fit your initialized model on the training data\n",
    "problem2_model.fit(problem2_X_train,problem2_y_train)\n",
    "\n",
    "# This is to make sure that everything went well, \n",
    "# check that success is True\n",
    "print(problem2_model.result)"
   ]
  },
  {
   "cell_type": "code",
   "execution_count": 25,
   "metadata": {
    "deletable": false,
    "lx_assignment_number": "2",
    "lx_assignment_type": "ASSIGNMENT",
    "lx_assignment_type2print": "Assignment",
    "lx_problem_cell_type": "PROBLEM",
    "lx_problem_number": "2",
    "lx_problem_points": "8",
    "ExecuteTime": {
     "end_time": "2023-11-10T21:52:37.734632Z",
     "start_time": "2023-11-10T21:52:37.723520Z"
    }
   },
   "outputs": [
    {
     "name": "stdout",
     "output_type": "stream",
     "text": [
      "length of covariates == selected X plus 1? True\n",
      "my_mae=4.165406875969526\n",
      "epsilon = 3.202892184529445\n",
      "MAE CI: (0.9625146914400813, 7.3682990604989715)\n"
     ]
    }
   ],
   "source": [
    "# Part 5\n",
    "print(f'length of covariates == selected X plus 1? {(len(problem2_model.result.x) == len(selected_vars)+1)}')\n",
    "# Put the computed mean absolute error in the variable below\n",
    "predictions = problem2_model.predict(problem2_X_test)\n",
    "my_mae = np.average(abs(predictions - problem2_y_test))\n",
    "print(f'my_mae={my_mae}')\n",
    "problem2_metric = my_mae\n",
    "# Put a confidence interval in the variable below by using Hoeffdings inequality using the bounds\n",
    "# a = 0, b=70 (roughly 5 days between visits as minimum)\n",
    "def do_hoeffnings_95(mean_abs_error,n, a, b):\n",
    "    e = np.sqrt(-((b-a)**2/(2*n))*np.log(1/40))\n",
    "    print(f'epsilon = {e}')\n",
    "    lu = ((mean_abs_error - e), (mean_abs_error + e))\n",
    "    print(f'MAE CI: {lu}')\n",
    "    return lu\n",
    "# the variable should contain a tuple representing the confidence interval of the form (l_edge,r_edge)\n",
    "problem2_interval = do_hoeffnings_95(my_mae, len(problem2_y_test), 0, 70)"
   ]
  },
  {
   "cell_type": "markdown",
   "metadata": {
    "deletable": false,
    "lx_assignment_number": "2",
    "lx_assignment_type": "ASSIGNMENT",
    "lx_assignment_type2print": "Assignment",
    "lx_problem_cell_type": "PROBLEM",
    "lx_problem_number": "3",
    "lx_problem_points": "8"
   },
   "source": [
    "---\n",
    "## Assignment 2, PROBLEM 3\n",
    "Maximum Points = 8"
   ]
  },
  {
   "cell_type": "markdown",
   "metadata": {
    "deletable": false,
    "lx_assignment_number": "2",
    "lx_assignment_type": "ASSIGNMENT",
    "lx_assignment_type2print": "Assignment",
    "lx_problem_cell_type": "PROBLEM",
    "lx_problem_number": "3",
    "lx_problem_points": "8"
   },
   "source": [
    "\n",
    "## Random variable generation and transformation\n",
    "\n",
    "The purpose of this problem is to show that you can implement your own sampler, this will be built in the following three steps:\n",
    "\n",
    "1. [2p] Implement a Linear Congruential Generator where you tested out a good combination (a large $M$ with $a,b$ satisfying the Hull-Dobell (Thm 6.8)) of parameters. Follow the instructions in the code block.\n",
    "2. [2p] Using a generator construct random numbers from the uniform $[0,1]$ distribution.\n",
    "3. [4p] Using a uniform $[0,1]$ random generator, generate samples from \n",
    "\n",
    "$$p_0(x) = \\frac{\\pi}{2}|\\sin(2\\pi x)|, \\quad x \\in [0,1] \\enspace .$$\n",
    "\n",
    "Using the **Accept-Reject** sampler (**Algorithm 1** in TFDS notes) with sampling density given by the uniform $[0,1]$ distribution."
   ]
  },
  {
   "cell_type": "code",
   "execution_count": 26,
   "metadata": {
    "deletable": false,
    "lx_assignment_number": "2",
    "lx_assignment_type": "ASSIGNMENT",
    "lx_assignment_type2print": "Assignment",
    "lx_problem_cell_type": "PROBLEM",
    "lx_problem_number": "3",
    "lx_problem_points": "8",
    "ExecuteTime": {
     "end_time": "2023-11-10T21:52:48.869537Z",
     "start_time": "2023-11-10T21:52:48.862Z"
    }
   },
   "outputs": [],
   "source": [
    "\n",
    "def problem3_LCG(size=None, seed = 0):\n",
    "    \"\"\"\n",
    "    A linear congruential generator that generates pseudo random numbers according to size.\n",
    "    \n",
    "    Parameters\n",
    "    -------------\n",
    "    size : an integer denoting how many samples should be produced\n",
    "    seed : the starting point of the LCG, i.e. u0 in the notes.\n",
    "    \n",
    "    Returns\n",
    "    -------------\n",
    "    out : a list of the pseudo random numbers\n",
    "    \"\"\"\n",
    "    x = seed # the seed\n",
    "    m = 2**31 - 1\n",
    "    a = 1103515245\n",
    "    b = 12345\n",
    "    retValue = [x % m]\n",
    "    for i in range(2, size+1, 1):\n",
    "        x = (a * x + b) % m # the generator, using modular arithmetic\n",
    "        retValue.append(x) # append the new x to the list\n",
    "    return retValue\n"
   ]
  },
  {
   "cell_type": "code",
   "execution_count": 27,
   "metadata": {
    "deletable": false,
    "lx_assignment_number": "2",
    "lx_assignment_type": "ASSIGNMENT",
    "lx_assignment_type2print": "Assignment",
    "lx_problem_cell_type": "PROBLEM",
    "lx_problem_number": "3",
    "lx_problem_points": "8",
    "ExecuteTime": {
     "end_time": "2023-11-10T21:52:49.843460Z",
     "start_time": "2023-11-10T21:52:49.836157Z"
    }
   },
   "outputs": [],
   "source": [
    "def problem3_uniform(generator=None, period = 1, size=None, seed=0):\n",
    "    import numpy as np\n",
    "    \"\"\"\n",
    "    Takes a generator and produces samples from the uniform [0,1] distribution according\n",
    "    to size.\n",
    "    \n",
    "    Parameters\n",
    "    -------------\n",
    "    generator : a function of type generator(size,seed) and produces the same result as problem1_LCG, i.e. pseudo random numbers in the range {0,1,...,period-1}\n",
    "    period : the period of the generator\n",
    "    seed : the seed to be used in the generator provided\n",
    "    size : an integer denoting how many samples should be produced\n",
    "    \n",
    "    Returns\n",
    "    --------------\n",
    "    out : a list of the uniform pseudo random numbers\n",
    "    \"\"\"\n",
    "    rvs = np.array(generator(size,seed))\n",
    "    \n",
    "    return rvs/period"
   ]
  },
  {
   "cell_type": "code",
   "execution_count": 28,
   "metadata": {
    "deletable": false,
    "lx_assignment_number": "2",
    "lx_assignment_type": "ASSIGNMENT",
    "lx_assignment_type2print": "Assignment",
    "lx_problem_cell_type": "PROBLEM",
    "lx_problem_number": "3",
    "lx_problem_points": "8",
    "ExecuteTime": {
     "end_time": "2023-11-10T21:52:50.536406Z",
     "start_time": "2023-11-10T21:52:50.518214Z"
    }
   },
   "outputs": [],
   "source": [
    "def problem3_accept_reject(uniformGenerator=None, n_iterations=None, seed=0):\n",
    "    import numpy as np\n",
    "    \"\"\"\n",
    "    Takes a generator that produces uniform pseudo random [0,1] numbers \n",
    "    and produces samples from (pi/2)*abs(sin(x*2*pi)) using an Accept-Reject\n",
    "    sampler with the uniform distribution as the proposal distribution.\n",
    "    Runs n_iterations\n",
    "    \n",
    "    Parameters\n",
    "    -------------\n",
    "    generator : a function of the type generator(size,seed) that produces uniform pseudo random\n",
    "    numbers from [0,1]\n",
    "    seed : the seed to be used in the generator provided\n",
    "    n_iterations : an integer denoting how many attempts should be made in the accept-reject sampler\n",
    "    \n",
    "    Returns\n",
    "    --------------\n",
    "    out : a list of the pseudo random numbers with the specified distribution\n",
    "    \"\"\"\n",
    "    \n",
    "    p0 = lambda number:(np.pi / 2) * np.abs(np.sin(2*np.pi*number))\n",
    "    rv_dom = uniformGenerator(size=n_iterations,seed=seed)\n",
    "    rv_ran = uniformGenerator(size=n_iterations, seed=rv_dom[-1])\n",
    "    #todo see if it matters that we use our generator\n",
    "    non_rejects = []\n",
    "    for rv in range(n_iterations):\n",
    "        dom = rv_dom[rv]\n",
    "        ran = rv_ran[rv]*np.pi/2\n",
    "        if ran <= p0(dom):\n",
    "            non_rejects.append(dom)\n",
    "    \n",
    "    return np.array(non_rejects)"
   ]
  },
  {
   "cell_type": "markdown",
   "metadata": {
    "deletable": false,
    "lx_assignment_number": "2",
    "lx_assignment_type": "ASSIGNMENT",
    "lx_assignment_type2print": "Assignment",
    "lx_problem_cell_type": "Test",
    "lx_problem_number": "3",
    "lx_problem_points": "8"
   },
   "source": [
    "---\n",
    "#### Local Test for Assignment 2, PROBLEM 3\n",
    "Evaluate cell below to make sure your answer is valid.                             You **should not** modify anything in the cell below when evaluating it to do a local test of                             your solution.\n",
    "You may need to include and evaluate code snippets from lecture notebooks in cells above to make the local test work correctly sometimes (see error messages for clues). This is meant to help you become efficient at recalling materials covered in lectures that relate to this problem. Such local tests will generally not be available in the exam."
   ]
  },
  {
   "cell_type": "code",
   "execution_count": 29,
   "metadata": {
    "deletable": false,
    "lx_assignment_number": "2",
    "lx_assignment_type": "ASSIGNMENT",
    "lx_assignment_type2print": "Assignment",
    "lx_problem_cell_type": "Test",
    "lx_problem_number": "3",
    "lx_problem_points": "8",
    "ExecuteTime": {
     "end_time": "2023-11-10T21:52:52.322988Z",
     "start_time": "2023-11-10T21:52:52.000211Z"
    }
   },
   "outputs": [
    {
     "name": "stdout",
     "output_type": "stream",
     "text": [
      "LCG output: [1, 1103527590, 944465040, 1695244727, 1008001095, 235077491, 776026401, 964188548, 19180611, 1753372583]\n",
      "Uniform sampler [4.65661288e-10 5.13870078e-01 4.39800807e-01 ... 4.08403495e-01\n",
      " 3.86372610e-01 6.49435609e-02]\n",
      "Accept-Reject sampler [4.65661288e-10 7.89409842e-01 1.09466487e-01 ... 2.86926150e-01\n",
      " 7.03027547e-01 2.69546410e-01]\n"
     ]
    },
    {
     "data": {
      "text/plain": "<Figure size 640x480 with 1 Axes>",
      "image/png": "[encoded data removed]"
     },
     "metadata": {},
     "output_type": "display_data"
    }
   ],
   "source": [
    "\n",
    "# If you managed to solve all three parts you can test the following code to see if it runs\n",
    "# you have to change the period to match your LCG though, this is marked as XXX.\n",
    "# It is a very good idea to check these things using the histogram function in sagemath\n",
    "# try with a larger number of samples, up to 10000 should run\n",
    "\n",
    "def do_graphs(rv_array):\n",
    "    import matplotlib.pyplot as plt\n",
    "    # plotEMF(makeEMF(rv_array))\n",
    "    plt.hist(rv_array, density=True, alpha=0.6, color='blue', edgecolor='black')\n",
    "\n",
    "\n",
    "print(\"LCG output: %s\" % problem3_LCG(size=10, seed = 1))\n",
    "\n",
    "period = 2**31 - 1\n",
    "\n",
    "print(\"Uniform sampler %s\" % problem3_uniform(generator=problem3_LCG, period = period, size=10000, seed=1))\n",
    "uniform_sampler = lambda size,seed: problem3_uniform(generator=problem3_LCG, period = period, size=size, seed=seed)\n",
    "\n",
    "print(\"Accept-Reject sampler %s\" % problem3_accept_reject(uniformGenerator = uniform_sampler,n_iterations=200000,seed=1))\n",
    "\n",
    "# do_graphs(problem3_uniform(generator=problem3_LCG, period = period, size=2000000, seed=1))\n",
    "do_graphs(problem3_accept_reject(uniformGenerator = uniform_sampler,n_iterations=2000,seed=1))"
   ]
  },
  {
   "cell_type": "code",
   "execution_count": 30,
   "metadata": {
    "deletable": false,
    "lx_assignment_number": "2",
    "lx_assignment_type": "ASSIGNMENT",
    "lx_assignment_type2print": "Assignment",
    "lx_problem_cell_type": "Test",
    "lx_problem_number": "3",
    "lx_problem_points": "8",
    "ExecuteTime": {
     "end_time": "2023-11-10T21:52:53.232056Z",
     "start_time": "2023-11-10T21:52:53.225071Z"
    }
   },
   "outputs": [
    {
     "name": "stdout",
     "output_type": "stream",
     "text": [
      "Accept-Reject sampler [0.84743374 0.76377462 0.25506903 0.78872335 0.02834748 0.8357651\n",
      " 0.76228008 0.72154003 0.22876222]\n"
     ]
    }
   ],
   "source": [
    "\n",
    "# If however you did not manage to implement either part 1 or part 2 but still want to check part 3, you can run the code below\n",
    "\n",
    "def testUniformGenerator(size,seed):\n",
    "    import random\n",
    "    random.seed(seed)\n",
    "    \n",
    "    return [random.uniform(0,1) for s in range(size)]\n",
    "\n",
    "print(\"Accept-Reject sampler %s\" % problem3_accept_reject(uniformGenerator=testUniformGenerator, n_iterations=20, seed=1))"
   ]
  },
  {
   "cell_type": "code",
   "execution_count": 15,
   "outputs": [],
   "source": [],
   "metadata": {
    "collapsed": false,
    "ExecuteTime": {
     "end_time": "2023-11-10T21:51:12.890720Z",
     "start_time": "2023-11-10T21:51:12.884872Z"
    }
   }
  }
 ],
 "metadata": {
  "lx_assignment_number": 2,
  "lx_course_instance": "2023",
  "lx_course_name": "Introduction to Data Science",
  "lx_course_number": "1MS041",
  "kernelspec": {
   "name": "python3",
   "language": "python",
   "display_name": "Python 3 (ipykernel)"
  }
 },
 "nbformat": 4,
 "nbformat_minor": 4
}
