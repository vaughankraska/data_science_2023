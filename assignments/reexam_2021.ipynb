{
 "cells": [
  {
   "cell_type": "markdown",
   "metadata": {
    "deletable": false
   },
   "source": [
    "# ReExam 24th of August 2022, 8.00-13.00 for the course 1MS041 (Introduction to Data Science / Introduktion till dataanalys)\n",
    "\n",
    "## Instructions:\n",
    "1. Complete the problems by following instructions.\n",
    "2. When done, submit this file with your solutions saved, following the instruction sheet.\n",
    "\n",
    "This exam has 5 problems each worth 8 points for a total of 40 points, to pass you need\n",
    "15 points.\n",
    "\n",
    "## Some general hints and information:\n",
    "* Some problems are similar to the exam in January but changed.\n",
    "* Try to answer all questions even if you are uncertain.\n",
    "* Comment your code, so that if you get the wrong answer I can understand how you thought\n",
    "this can give you some points even though the code does not run.\n",
    "* Follow the instruction sheet rigorously.\n",
    "* This exam has no anonymous exam ID due to a technical issue, however this does not mean\n",
    "that the exam is not anonymous. The grading system will automatically download all the exams from Studium\n",
    "and it is at this stage that they are anonymized by a randomized ID.\n",
    "* If there are any questions, please ask the exam guards, they will escalate it to me if necessary.\n",
    "* I (Benny) will visit the exam room at around 10:30 to see if there are any questions.\n",
    "\n",
    "## Finally some rules:\n",
    "* You may not communicate with others during the exam, for example:\n",
    "    * You cannot ask for help in Stack-Overflow or other such help forums during the Exam.\n",
    "    * You may not use encrypted communications\n",
    "    * Your on-line and off-line activity is being monitored according to the examination rules.\n",
    "\n",
    "## Good luck!\n"
   ],
   "id": "e4e72d1b6720b6bf"
  },
  {
   "cell_type": "markdown",
   "metadata": {
    "deletable": false,
    "lx_assignment_number": "vB",
    "lx_assignment_type": "EXAM",
    "lx_assignment_type2print": "Exam",
    "lx_problem_cell_type": "PROBLEM",
    "lx_problem_number": "1",
    "lx_problem_points": "8"
   },
   "source": [
    "---\n",
    "## Exam vB, PROBLEM 1\n",
    "Maximum Points = 8"
   ],
   "id": "d03f09a3f5254942"
  },
  {
   "cell_type": "markdown",
   "metadata": {
    "deletable": false,
    "lx_assignment_number": "vB",
    "lx_assignment_type": "EXAM",
    "lx_assignment_type2print": "Exam",
    "lx_problem_cell_type": "PROBLEM",
    "lx_problem_number": "1",
    "lx_problem_points": "8"
   },
   "source": [
    "\n",
    "## Probability warmup\n",
    "Let's say we have an exam question which consists of $50$ yes/no questions. \n",
    "From past performance of similar students, a randomly chosen student will know the correct answer to $N \\sim \\text{binom}(50,0.8)$ questions. Furthermore, we assume that the student will guess the answer with equal probability to each question they don't know the answer to, i.e. given $N$ we define $Z \\sim \\text{binom}(50-N,1/2)$ as the number of correctly guessed answers. Define $Y = N + Z$, i.e., $Y$ represents the number of total correct answers.\n",
    "\n",
    "We are interested in setting a deterministic threshold $T$, i.e., we would pass a student at threshold $T$ if $Y \\geq T$. Here $T \\in \\{0,1,2,\\ldots,50\\}$.\n",
    "\n",
    "1. [3p] Produce a simulation of $1000$ students. Hint: Simulate $N$ first then simulate $Y \\mid N$ and add the results. Numpy has `numpy.random.binomial` which you can simulate from.\n",
    "2. [3p] For each threshold $T$, produce a simulation as above and estimate the probability that the student *knows* less than $40$ correct answers given that the student passed, i.e., $N < 40$. Put the answer in `problem11_probabilities` as a list.\n",
    "3. [2p] What is the smallest value of $T$ such that if $Y \\geq T$ then we are 90\\% certain that $N \\geq 40$?"
   ],
   "id": "64cb75cbf2fb3b51"
  },
  {
   "cell_type": "code",
   "execution_count": 16,
   "metadata": {
    "deletable": false,
    "lx_assignment_number": "vB",
    "lx_assignment_type": "EXAM",
    "lx_assignment_type2print": "Exam",
    "lx_problem_cell_type": "PROBLEM",
    "lx_problem_number": "1",
    "lx_problem_points": "8"
   },
   "outputs": [],
   "source": [
    "#loop över alla studenter\n",
    "#loop över alla n\n",
    "\n",
    "#loop över alla z\n",
    "import numpy as np\n",
    "\n",
    "p_guess = 1/2\n",
    "p_Z = lambda k, n: binomial(n,k)*((1-p_guess)**(n-k))*((p_guess)**k)\n",
    "\n",
    "Y = []\n",
    "N = []\n",
    "for i in range(1000): #pga 1000 studenter\n",
    "    n =  np.random.binomial(50,0.8)\n",
    "    N.append(n)\n",
    "    Z = np.random.binomial(50-n,0.5)\n",
    "    Y.append(Z+n)\n",
    "\n",
    "# Part 1:\n",
    "problem1_1000_samples = Y"
   ],
   "id": "8c8f1dbc93797601"
  },
  {
   "cell_type": "code",
   "execution_count": 26,
   "metadata": {
    "deletable": false,
    "lx_assignment_number": "vB",
    "lx_assignment_type": "EXAM",
    "lx_assignment_type2print": "Exam",
    "lx_problem_cell_type": "PROBLEM",
    "lx_problem_number": "1",
    "lx_problem_points": "8"
   },
   "outputs": [
    {
     "name": "stdout",
     "output_type": "stream",
     "text": [
      "[0.434, 0.434, 0.434, 0.434, 0.434, 0.434, 0.434, 0.434, 0.434, 0.434, 0.434, 0.434, 0.434, 0.434, 0.434, 0.434, 0.434, 0.434, 0.434, 0.434, 0.434, 0.434, 0.434, 0.434, 0.434, 0.434, 0.434, 0.434, 0.434, 0.434, 0.434, 0.434, 0.434, 0.434, 0.434, 0.434, 0.434, 0.434, 0.433, 0.432, 0.426, 0.409, 0.385, 0.309, 0.246, 0.142, 0.078, 0.028, 0.007, 0.001, 0.0]\n"
     ]
    }
   ],
   "source": [
    "Y = problem1_1000_samples\n",
    "\n",
    "sum_accepted_students = 0\n",
    "problem1_probabilities = []\n",
    "\n",
    "\n",
    "for t in range(51): #viktigt att ha en till\n",
    "    #för varje t,\n",
    "    #kika om studenten passed, Y > t\n",
    "    sum_accepted_students = 0\n",
    "    for i in range(len(Y)):\n",
    "        if Y[i] >= t:\n",
    "            if N[i] < 40: \n",
    "                sum_accepted_students += 1\n",
    "    problem1_probabilities.append(sum_accepted_students/1000)\n",
    "                \n",
    "                \n",
    "\n",
    "print(problem1_probabilities)\n",
    "# Part 2: \n",
    "# replace XXX to represent P(N < 40) for T = [0,1,2,...,50], i.e. your answer should be a list\n",
    "# of length 51.\n",
    "#problem1_probabilities = [0.434, 0.434, 0.434, 0.434, 0.434, 0.434, 0.434, 0.434, 0.434, 0.434, 0.434, 0.434, 0.434, 0.434, 0.434, 0.434, 0.434, 0.434, 0.434, 0.434, 0.434, 0.434, 0.434, 0.434, 0.434, 0.434, 0.434, 0.434, 0.434, 0.434, 0.434, 0.434, 0.434, 0.434, 0.434, 0.434, 0.434, 0.434, 0.433, 0.432, 0.426, 0.409, 0.385, 0.309, 0.246, 0.142, 0.078, 0.028, 0.007, 0.001, 0.0]\n",
    "#min(Y)\n"
   ],
   "id": "e6236665b5be82c7"
  },
  {
   "cell_type": "code",
   "execution_count": null,
   "metadata": {},
   "outputs": [],
   "source": [],
   "id": "1ed4baf0763979e1"
  },
  {
   "cell_type": "code",
   "execution_count": 27,
   "metadata": {
    "deletable": false,
    "lx_assignment_number": "vB",
    "lx_assignment_type": "EXAM",
    "lx_assignment_type2print": "Exam",
    "lx_problem_cell_type": "PROBLEM",
    "lx_problem_number": "1",
    "lx_problem_points": "8"
   },
   "outputs": [],
   "source": [
    "#för att räkna ut P(Y>=T|N>=40) så kan vi ta 1-P(Y>=T|N<40), dvs P(Y>=T|N<40)<= 0.1\n",
    "#och då kikar vi bara när sannolikheten i vår arrray ovan blir mindre än 0.1, dvs vid T>=46\n",
    "\n",
    "\n",
    "# Part 3: Give an integer between 0 and 50 which is the answer to 2.\n",
    "problem1_T = 46"
   ],
   "id": "cb0742fe4dad6de4"
  },
  {
   "cell_type": "markdown",
   "metadata": {
    "deletable": false,
    "lx_assignment_number": "vB",
    "lx_assignment_type": "EXAM",
    "lx_assignment_type2print": "Exam",
    "lx_problem_cell_type": "PROBLEM",
    "lx_problem_number": "2",
    "lx_problem_points": "8"
   },
   "source": [
    "---\n",
    "## Exam vB, PROBLEM 2\n",
    "Maximum Points = 8"
   ],
   "id": "4df211852e6180f3"
  },
  {
   "cell_type": "markdown",
   "metadata": {
    "deletable": false,
    "lx_assignment_number": "vB",
    "lx_assignment_type": "EXAM",
    "lx_assignment_type2print": "Exam",
    "lx_problem_cell_type": "PROBLEM",
    "lx_problem_number": "2",
    "lx_problem_points": "8"
   },
   "source": [
    "\n",
    "In many areas of data science and machine learning we need to produce random samples in different ways. This can be done to compute difficult integrals or validate algorithms. \n",
    "\n",
    "1. [2p] Produce 1000 samples from the distribution below using inversion sampling\n",
    "$$\n",
    "    F[x] = \n",
    "    \\begin{cases}\n",
    "        0, & x \\leq 0 \\\\\n",
    "        \\sin(x), & 0 < x < \\pi/2 \\\\\n",
    "        1, & x \\geq \\pi/2\n",
    "    \\end{cases}\n",
    "$$\n",
    "and show your result with a histogram \"You can use sagemath function `histogram`, or `matplotlib.pyplot` `hist`\". Also what is the true density? Provide a plot of the true density between 0 and $\\pi/2$.\n",
    "2. [3p] Consider a random variable $X \\sim F$ sampled from distribution $F$. Your goal is to estimate $E[X]$. Do this by producing 1000 different experiments, each sampling 1000 samples from $X$ and compute the empirical mean. Provide the $0.025$ and the $0.975$ quantile of the experiments.\n",
    "3. [3p] Use Hoeffdings inequality to produce a 95% confidence interval for the estimated mean above?"
   ],
   "id": "b71249e715d316de"
  },
  {
   "cell_type": "code",
   "execution_count": 6,
   "metadata": {
    "deletable": false,
    "lx_assignment_number": "vB",
    "lx_assignment_type": "EXAM",
    "lx_assignment_type2print": "Exam",
    "lx_problem_cell_type": "PROBLEM",
    "lx_problem_number": "2",
    "lx_problem_points": "8",
    "ExecuteTime": {
     "end_time": "2024-01-03T15:25:56.033392Z",
     "start_time": "2024-01-03T15:25:55.079709Z"
    }
   },
   "outputs": [
    {
     "data": {
      "text/plain": "<Axes: ylabel='Count'>"
     },
     "execution_count": 6,
     "metadata": {},
     "output_type": "execute_result"
    },
    {
     "data": {
      "text/plain": "<Figure size 640x480 with 1 Axes>",
      "image/png": "[encoded data removed]"
     },
     "metadata": {},
     "output_type": "display_data"
    }
   ],
   "source": [
    "import seaborn as sns\n",
    "import numpy as np\n",
    "\n",
    "def F_x(x):\n",
    "    if x <= 0: return 0;\n",
    "    elif 0 < x < np.pi / 2:\n",
    "        return np.sin(x)\n",
    "    else: return 1;\n",
    "        \n",
    "def inverse_F_x(x):\n",
    "    if x<0: return 0;\n",
    "    elif x > 1: return 0;\n",
    "    else: return np.arcsin(x);\n",
    "    \n",
    "\n",
    "# put your samples in the variable samples\n",
    "samples = [inverse_F_x(x) for x in np.random.uniform(size=1000000)]\n",
    "sns.histplot(samples)"
   ],
   "id": "5ca91c0e5b42aeed"
  },
  {
   "cell_type": "code",
   "execution_count": 7,
   "metadata": {
    "deletable": false,
    "lx_assignment_number": "vB",
    "lx_assignment_type": "EXAM",
    "lx_assignment_type2print": "Exam",
    "lx_problem_cell_type": "PROBLEM",
    "lx_problem_number": "2",
    "lx_problem_points": "8",
    "ExecuteTime": {
     "end_time": "2024-01-03T15:33:45.819561Z",
     "start_time": "2024-01-03T15:33:45.364576Z"
    }
   },
   "outputs": [
    {
     "name": "stdout",
     "output_type": "stream",
     "text": [
      "0.5477026225112157 <= 0.5707757541957488 <= 0.5946944735788515\n"
     ]
    }
   ],
   "source": [
    "# Produce 1000 experiments, in which each experiment you draw\n",
    "# 1000 samples from F. Store the value of the empirical mean of each\n",
    "# experiment and compute the 0.025 and the 0.975 quantiles\n",
    "means = [] # the computed empirical means, should be a list of length 1000\n",
    "for i in range(1000):\n",
    "    experiment = [inverse_F_x(x) for x in np.random.uniform(size=1000)]\n",
    "    means.append(np.mean(experiment))\n",
    "quantile_0025 = np.quantile(means, q=.025) # the 0.025 quantile\n",
    "quantile_0975 = np.quantile(means, q=.975) # the 0.975 quantile\n",
    "print(f'{quantile_0025} <= {np.mean(means)} <= {quantile_0975}')"
   ],
   "id": "7cce3a2f08ad7c31"
  },
  {
   "cell_type": "code",
   "execution_count": 12,
   "metadata": {
    "deletable": false,
    "lx_assignment_number": "vB",
    "lx_assignment_type": "EXAM",
    "lx_assignment_type2print": "Exam",
    "lx_problem_cell_type": "PROBLEM",
    "lx_problem_number": "2",
    "lx_problem_points": "8",
    "ExecuteTime": {
     "end_time": "2024-01-03T16:24:10.812177Z",
     "start_time": "2024-01-03T16:24:10.806856Z"
    }
   },
   "outputs": [
    {
     "name": "stdout",
     "output_type": "stream",
     "text": [
      "(0.5033148572855655, 0.6382366511059321)\n",
      "(0.49305179047711833, 0.627973584297485)\n",
      "Confidence interval around the mean is [0.50,0.64]\n"
     ]
    }
   ],
   "source": [
    "# Put your interval in the form\n",
    "from Utils import compute_confidence_interval_bounded\n",
    "print(compute_confidence_interval_bounded(means, .05, min_value=0, max_value=np.pi/2))\n",
    "print(compute_confidence_interval_bounded([inverse_F_x(x) for x in np.random.uniform(size=1000)], .05, min_value=0, max_value=np.pi/2))\n",
    "l_edge = compute_confidence_interval_bounded(means, .05, min_value=0, max_value=np.pi/2)[0] # The left edge of the interval\n",
    "r_edge = compute_confidence_interval_bounded(means, .05, min_value=0, max_value=np.pi/2)[1] # The right edge of the interval\n",
    "print(\"Confidence interval around the mean is [%.2f,%.2f]\" % (l_edge,r_edge))"
   ],
   "id": "9b6a17d6365170ff"
  },
  {
   "cell_type": "markdown",
   "metadata": {
    "deletable": false,
    "lx_assignment_number": "vB",
    "lx_assignment_type": "EXAM",
    "lx_assignment_type2print": "Exam",
    "lx_problem_cell_type": "PROBLEM",
    "lx_problem_number": "3",
    "lx_problem_points": "8"
   },
   "source": [
    "---\n",
    "## Exam vB, PROBLEM 3\n",
    "Maximum Points = 8"
   ],
   "id": "68eda00d5bd6c4ee"
  },
  {
   "cell_type": "markdown",
   "metadata": {
    "deletable": false,
    "lx_assignment_number": "vB",
    "lx_assignment_type": "EXAM",
    "lx_assignment_type2print": "Exam",
    "lx_problem_cell_type": "PROBLEM",
    "lx_problem_number": "3",
    "lx_problem_points": "8"
   },
   "source": [
    "\n",
    "## Concentration of measure\n",
    "\n",
    "As you recall, we said that concentration of measure was simply the phenomenon where we expect that the probability of a large deviation of some quantity becoming smaller as we observe more samples: [8/22 points per correct answer]\n",
    "\n",
    "1. Which of the following will exponentially concentrate, i.e. for some $C_1,C_2,C_3,C_4 $ \n",
    "$$\n",
    "    P(Z - \\mathbb{E}[Z] \\geq \\epsilon) \\leq C_1 e^{-C_2 n \\epsilon^2} \\wedge C_3 e^{-C_4 n (\\epsilon+1)} \\enspace .\n",
    "$$\n",
    "\n",
    "    1. The empirical mean of i.i.d. sub-Gaussian random variables?\n",
    "    2. The empirical mean of i.i.d. sub-Exponential random variables?\n",
    "    3. The empirical mean of i.i.d. bounded random variables?\n",
    "    4. The empirical variance of i.i.d. bounded random variables?\n",
    "    5. The empirical mean of i.i.d. random variables with finite variance?\n",
    "    6. The empirical variance of i.i.d. random variables with finite variance?\n",
    "    7. The empirical variance of i.i.d. sub-Gaussian random variables?\n",
    "    8. The empirical third moment of i.i.d. bounded random variables?\n",
    "    9. The empirical fourth moment of i.i.d. sub-Gaussian random variables?\n",
    "    10. The empirical mean of i.i.d. deterministic random variables?\n",
    "    11. The empirical tenth moment of i.i.d. Bernoulli random variables?\n",
    "\n",
    "2. Which of the above will concentrate in the weaker sense, that for some $C_1$\n",
    "$$\n",
    "    P(Z - \\mathbb{E}[Z] \\geq \\epsilon) \\leq \\frac{C_1}{n \\epsilon^2}?\n",
    "$$"
   ],
   "id": "8551f9c6c3c90ce4"
  },
  {
   "cell_type": "code",
   "execution_count": null,
   "metadata": {
    "deletable": false,
    "lx_assignment_number": "vB",
    "lx_assignment_type": "EXAM",
    "lx_assignment_type2print": "Exam",
    "lx_problem_cell_type": "PROBLEM",
    "lx_problem_number": "3",
    "lx_problem_points": "8"
   },
   "outputs": [],
   "source": [
    "\n",
    "# Answers to part 1, which of the alternatives exponentially concentrate, answer as a list\n",
    "# i.e. [1,4,5] that is example 1, 4, and 5 concentrate\n",
    "problem3_answer_1 = [XXX]"
   ],
   "id": "d798be6d2c3779e9"
  },
  {
   "cell_type": "code",
   "execution_count": null,
   "metadata": {
    "deletable": false,
    "lx_assignment_number": "vB",
    "lx_assignment_type": "EXAM",
    "lx_assignment_type2print": "Exam",
    "lx_problem_cell_type": "PROBLEM",
    "lx_problem_number": "3",
    "lx_problem_points": "8"
   },
   "outputs": [],
   "source": [
    "\n",
    "# Answers to part 2, which of the alternatives concentrate in the weaker sense, answer as a list\n",
    "# i.e. [1,4,5] that is example 1, 4, and 5 concentrate\n",
    "problem3_answer_2 = [XXX]"
   ],
   "id": "df532d6675c2f7a0"
  },
  {
   "cell_type": "markdown",
   "metadata": {
    "deletable": false,
    "lx_assignment_number": "vB",
    "lx_assignment_type": "EXAM",
    "lx_assignment_type2print": "Exam",
    "lx_problem_cell_type": "PROBLEM",
    "lx_problem_number": "4",
    "lx_problem_points": "8"
   },
   "source": [
    "---\n",
    "## Exam vB, PROBLEM 4\n",
    "Maximum Points = 8"
   ],
   "id": "40ae4fa5514f057c"
  },
  {
   "cell_type": "markdown",
   "metadata": {
    "deletable": false,
    "lx_assignment_number": "vB",
    "lx_assignment_type": "EXAM",
    "lx_assignment_type2print": "Exam",
    "lx_problem_cell_type": "PROBLEM",
    "lx_problem_number": "4",
    "lx_problem_points": "8"
   },
   "source": [
    "\n",
    "In this problem you will be working with a text file `a_sequence.txt`, found in the `data` folder. This contains a sequence of numbers that are observations of a Markov chain. The goal of this exercise is to analyze this sequence in different ways.\n",
    "\n",
    "1. [2p] Take the file `a_sequence.txt` and load it as a list of integers. Use bash or something to figure out how to parse the file.\n",
    "2. [2p] Define a Markov chain from this list of integers\n",
    "    1. What are the states?\n",
    "    2. How many states are there?\n",
    "3. [2p] Estimate the transition probability of going from state 42 to state 16?\n",
    "4. [2p] Find the transition matrix $P$ and compute the matrix power $P^{10} v$ where $v = (1,0,\\ldots,0)$."
   ],
   "id": "f3460d4eeaca6b0f"
  },
  {
   "cell_type": "code",
   "execution_count": null,
   "metadata": {
    "deletable": false,
    "lx_assignment_number": "vB",
    "lx_assignment_type": "EXAM",
    "lx_assignment_type2print": "Exam",
    "lx_problem_cell_type": "PROBLEM",
    "lx_problem_number": "4",
    "lx_problem_points": "8"
   },
   "outputs": [],
   "source": [
    "\n",
    "# Read the file a_sequence.txt and load it as a list of integers. \n",
    "# Put your result in the variable \"numbers\"\n",
    "\n",
    "numbers = XXX"
   ],
   "id": "41b507396cc828a9"
  },
  {
   "cell_type": "code",
   "execution_count": null,
   "metadata": {
    "deletable": false,
    "lx_assignment_number": "vB",
    "lx_assignment_type": "EXAM",
    "lx_assignment_type2print": "Exam",
    "lx_problem_cell_type": "PROBLEM",
    "lx_problem_number": "4",
    "lx_problem_points": "8"
   },
   "outputs": [],
   "source": [
    "\n",
    "# Construct a Markov chain of this list of integers, that is. \n",
    "# EXPLAIN in text what are the states are and what \n",
    "# the transition probabilities mean.\n",
    "\n",
    "#---------Put your explanation between the lines-------------\n",
    "\n",
    "#------------------------------------------------------------"
   ],
   "id": "66dc8bbcff61d080"
  },
  {
   "cell_type": "code",
   "execution_count": null,
   "metadata": {
    "deletable": false,
    "lx_assignment_number": "vB",
    "lx_assignment_type": "EXAM",
    "lx_assignment_type2print": "Exam",
    "lx_problem_cell_type": "PROBLEM",
    "lx_problem_number": "4",
    "lx_problem_points": "8"
   },
   "outputs": [],
   "source": [
    "# put the number of states in the variable n_states\n",
    "\n",
    "n_states = XXX\n",
    "\n",
    "# Now fill in the states, stored as a sorted list of integers\n",
    "states = XXX"
   ],
   "id": "37ad390a5a12099a"
  },
  {
   "cell_type": "code",
   "execution_count": null,
   "metadata": {
    "deletable": false,
    "lx_assignment_number": "vB",
    "lx_assignment_type": "EXAM",
    "lx_assignment_type2print": "Exam",
    "lx_problem_cell_type": "PROBLEM",
    "lx_problem_number": "4",
    "lx_problem_points": "8"
   },
   "outputs": [],
   "source": [
    "# Estimate the transition probability of going from $42$ to $16$. \n",
    "# You can use the below function if you want"
   ],
   "id": "18feb1d76ab98234"
  },
  {
   "cell_type": "code",
   "execution_count": null,
   "metadata": {
    "deletable": false,
    "lx_assignment_number": "vB",
    "lx_assignment_type": "EXAM",
    "lx_assignment_type2print": "Exam",
    "lx_problem_cell_type": "PROBLEM",
    "lx_problem_number": "4",
    "lx_problem_points": "8"
   },
   "outputs": [],
   "source": [
    "def makeFreqDict(myDataSeq, one = int(1)):\n",
    "    '''Make a frequency mapping out of a sequence of data - list, array, str.\n",
    "\n",
    "    Param myDataList, a list of data.\n",
    "    Return a dictionary mapping each unique data value to its frequency count.'''\n",
    "\n",
    "    freqDict = {} # start with an empty dictionary\n",
    "\n",
    "    for res in myDataSeq:\n",
    "\n",
    "        if res in freqDict: # the data value already exists as a key\n",
    "                freqDict[res] = freqDict[res] + one #int(1) # add 1 to the count\n",
    "        else: # the data value does not exist as a key value\n",
    "            # add a new key-value pair for this new data value, frequency 1\n",
    "            freqDict[res] = one\n",
    "\n",
    "    return freqDict # return the dictionary created"
   ],
   "id": "f8d1fed3e9b6530c"
  },
  {
   "cell_type": "code",
   "execution_count": null,
   "metadata": {
    "deletable": false,
    "lx_assignment_number": "vB",
    "lx_assignment_type": "EXAM",
    "lx_assignment_type2print": "Exam",
    "lx_problem_cell_type": "PROBLEM",
    "lx_problem_number": "4",
    "lx_problem_points": "8"
   },
   "outputs": [],
   "source": [
    "# Put your answer here for the transition probability\n",
    "\n",
    "transition_probability = XXX"
   ],
   "id": "6ab8be2a21004751"
  },
  {
   "cell_type": "code",
   "execution_count": null,
   "metadata": {
    "deletable": false,
    "lx_assignment_number": "vB",
    "lx_assignment_type": "EXAM",
    "lx_assignment_type2print": "Exam",
    "lx_problem_cell_type": "PROBLEM",
    "lx_problem_number": "4",
    "lx_problem_points": "8"
   },
   "outputs": [],
   "source": [
    "# Fill in the transition matrix P as a numpy array of \n",
    "# shape (n_states x n_states)\n",
    "# Make sure it is a transition matrix by checking the column sum\n",
    "P =XXX\n",
    "\n",
    "# If our initial vector is\n",
    "v = np.zeros(n_states)\n",
    "v[0] = 1\n",
    "\n",
    "# What is P^10 v\n",
    "steady_state_v = XXX"
   ],
   "id": "d99f50ebe8c1a889"
  },
  {
   "cell_type": "markdown",
   "metadata": {
    "deletable": false,
    "lx_assignment_number": "vB",
    "lx_assignment_type": "EXAM",
    "lx_assignment_type2print": "Exam",
    "lx_problem_cell_type": "PROBLEM",
    "lx_problem_number": "5",
    "lx_problem_points": "8"
   },
   "source": [
    "---\n",
    "## Exam vB, PROBLEM 5\n",
    "Maximum Points = 8"
   ],
   "id": "7af6ce76cdc0df76"
  },
  {
   "cell_type": "markdown",
   "metadata": {
    "deletable": false,
    "lx_assignment_number": "vB",
    "lx_assignment_type": "EXAM",
    "lx_assignment_type2print": "Exam",
    "lx_problem_cell_type": "PROBLEM",
    "lx_problem_number": "5",
    "lx_problem_points": "8"
   },
   "source": [
    "\n",
    "## SMS spam filtering [8p]\n",
    "\n",
    "In the following problem we will explore SMS spam texts. The dataset is the `SMS Spam Collection Dataset` and we have provided for you a way to load the data. If you run the appropriate cell below, the result will be in the `spam_no_spam` variable. The result is a `list` of `tuples` with the first position in the tuple being the SMS text and the second being a flag `0 = not spam` and `1 = spam`.\n",
    "\n",
    "1. [3p] Let $X$ be the random variable that represents each SMS text (an entry in the list), and let $Y$ represent whether text is spam or not i.e. $Y \\in \\{0,1\\}$. Thus $\\mathbb{P}(Y = 1)$ is the probability that we get a spam. The goal is to estimate:\n",
    "$$\n",
    "    \\mathbb{P}(Y = 1 | \\text{\"free\" or \"prize\" is in } X) \\enspace .\n",
    "$$\n",
    "That is, the probability that the SMS is spam given that \"free\" or \"prize\" occurs in the SMS. (This is precision)\n",
    "Hint: it is good to remove the upper/lower case of words so that we can also find \"Free\" and \"Prize\"; this can be done with `text.lower()` if `text` a string.\n",
    "2. [3p] Estimate the probability that the word \"free\" or \"prize\" is in the text given that it is spam. (This is recall) I.e. estimate\n",
    "$$\n",
    "    \\mathbb{P}(\\text{\"free\" or \"prize\" is in } X \\mid Y = 1) \\enspace .\n",
    "$$\n",
    "3. [2p] Provide a \"90\\%\" interval of confidence around the true probability from **part 1**. I.e. use the Hoeffding inequality to obtain for your estimate $\\hat P$. Find $l > 0$ such that the following holds:\n",
    "$$\n",
    "    \\mathbb{P}(\\hat P - l \\leq \\mathbb{E}[\\hat P] \\leq \\hat P + l) \\geq 0.9 \\enspace .\n",
    "$$"
   ],
   "id": "9c414bfffa8031c2"
  },
  {
   "cell_type": "code",
   "execution_count": null,
   "metadata": {
    "deletable": false,
    "lx_assignment_number": "vB",
    "lx_assignment_type": "EXAM",
    "lx_assignment_type2print": "Exam",
    "lx_problem_cell_type": "PROBLEM",
    "lx_problem_number": "5",
    "lx_problem_points": "8"
   },
   "outputs": [],
   "source": [
    "\n",
    "# Run this cell to get the SMS text data\n",
    "from exam_extras import load_sms\n",
    "spam_no_spam = load_sms()"
   ],
   "id": "4a411cecc879e012"
  },
  {
   "cell_type": "code",
   "execution_count": null,
   "metadata": {
    "deletable": false,
    "lx_assignment_number": "vB",
    "lx_assignment_type": "EXAM",
    "lx_assignment_type2print": "Exam",
    "lx_problem_cell_type": "PROBLEM",
    "lx_problem_number": "5",
    "lx_problem_points": "8"
   },
   "outputs": [],
   "source": [
    "\n",
    "# fill in the estimate for part 1 here (should be a number between 0 and 1)\n",
    "problem5_hatP = XXX"
   ],
   "id": "72ede675dd307fa9"
  },
  {
   "cell_type": "code",
   "execution_count": null,
   "metadata": {
    "deletable": false,
    "lx_assignment_number": "vB",
    "lx_assignment_type": "EXAM",
    "lx_assignment_type2print": "Exam",
    "lx_problem_cell_type": "PROBLEM",
    "lx_problem_number": "5",
    "lx_problem_points": "8"
   },
   "outputs": [],
   "source": [
    "\n",
    "# fill in the estimate for hatP for the double free question in part 2 here (should be a number between 0 and 1)\n",
    "problem5_hatP2 = XXX"
   ],
   "id": "8ba8d77f1c2f3247"
  },
  {
   "cell_type": "code",
   "execution_count": null,
   "metadata": {
    "deletable": false,
    "lx_assignment_number": "vB",
    "lx_assignment_type": "EXAM",
    "lx_assignment_type2print": "Exam",
    "lx_problem_cell_type": "PROBLEM",
    "lx_problem_number": "5",
    "lx_problem_points": "8"
   },
   "outputs": [],
   "source": [
    "\n",
    "# fill in the calculated l from part 3 here\n",
    "problem5_l = XXX"
   ],
   "id": "14abfd1c8f22998"
  }
 ],
 "metadata": {
  "kernelspec": {
   "display_name": "Python 3 (ipykernel)",
   "language": "python",
   "name": "python3"
  },
  "language_info": {
   "codemirror_mode": {
    "name": "ipython",
    "version": 3
   },
   "file_extension": ".py",
   "mimetype": "text/x-python",
   "name": "python",
   "nbconvert_exporter": "python",
   "pygments_lexer": "ipython3",
   "version": "3.10.8"
  },
  "lx_assignment_number": "vB",
  "lx_course_instance": "2021",
  "lx_course_name": "Introduction to Data Science: A Comp-Math-Stat Approach",
  "lx_course_number": "1MS041"
 },
 "nbformat": 4,
 "nbformat_minor": 5
}
